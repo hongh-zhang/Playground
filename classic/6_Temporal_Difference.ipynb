{
 "cells": [
  {
   "cell_type": "code",
   "execution_count": 29,
   "id": "ef39f537-d878-4883-802c-14497997c974",
   "metadata": {},
   "outputs": [],
   "source": [
    "import gym\n",
    "import numpy as np\n",
    "import matplotlib.pyplot as plt\n",
    "\n",
    "np.set_printoptions(precision=3)"
   ]
  },
  {
   "cell_type": "code",
   "execution_count": 30,
   "id": "7cb7e331-72ba-4067-ab17-1f51acc6e55e",
   "metadata": {},
   "outputs": [
    {
     "name": "stdout",
     "output_type": "stream",
     "text": [
      "[[b'S' b'F' b'F' b'F']\n",
      " [b'F' b'H' b'F' b'H']\n",
      " [b'F' b'F' b'F' b'H']\n",
      " [b'H' b'F' b'F' b'G']]\n"
     ]
    }
   ],
   "source": [
    "SIZE = 4  # map size\n",
    "\n",
    "env = gym.make('FrozenLake-v1', is_slippery=False)\n",
    "print(env.desc)\n",
    "\n",
    "def int2loc(x):\n",
    "    \"\"\"\n",
    "    Convert state number into 2d matrix index\n",
    "    e.g. 3 -> (0, 4),  4 -> (1, 0)\n",
    "    \"\"\"\n",
    "    return (x // SIZE, x % SIZE)\n",
    "\n",
    "assert int2loc(8) == (2,0)"
   ]
  },
  {
   "cell_type": "markdown",
   "id": "2415a745-9caa-4405-a063-6047aed8d318",
   "metadata": {},
   "source": [
    "# SARSA"
   ]
  },
  {
   "cell_type": "code",
   "execution_count": 31,
   "id": "0721f541-6d8e-4591-b40f-0d55addf2fd0",
   "metadata": {},
   "outputs": [],
   "source": [
    "class SARSA():\n",
    "    \n",
    "    def __init__(self, shape=(SIZE, SIZE, 4), e=0.8, y=0.9, lr=1e-1,):\n",
    "        \n",
    "        self.e  = e\n",
    "        self.y  = y\n",
    "        self.lr = lr\n",
    "        self.q = np.zeros(shape)\n",
    "        \n",
    "        self.test_mode = False\n",
    "    \n",
    "    def action(self, state):\n",
    "\n",
    "        if not self.test_mode and np.random.rand() <= self.e:\n",
    "            action = np.random.choice([0,1,2,3])\n",
    "        else:\n",
    "            action = np.argmax(self.q[state])\n",
    "        return action\n",
    "    \n",
    "    def learn(self, state, action, state_, action_, reward, done):\n",
    "\n",
    "        q_next = self.q[(*state_, action_)] if not done else 0.0\n",
    "        td_error = reward + self.y*q_next - self.q[(*state, action)]\n",
    "        #print(td_error)\n",
    "        self.q[(*state, action)] += self.lr * td_error"
   ]
  },
  {
   "cell_type": "code",
   "execution_count": 32,
   "id": "5ceb9b5e-e96c-4308-81cb-ae0dc1904a43",
   "metadata": {},
   "outputs": [],
   "source": [
    "def episode(env, agent):\n",
    "    \n",
    "    state = int2loc(env.reset())\n",
    "    action = agent.action(state)\n",
    "    \n",
    "    for _ in range(MAX_STEPS):\n",
    "        \n",
    "        # take action & observe\n",
    "        state_, reward, done, _ = env.step(action)\n",
    "        state_ = int2loc(state_)\n",
    "        \n",
    "        # choose next action\n",
    "        action_ = agent.action(state_)\n",
    "        \n",
    "        # update q value\n",
    "        agent.learn(state, action, state_, action_, reward, done);\n",
    "        \n",
    "        # iter to next step\n",
    "        state = state_\n",
    "        action = action_\n",
    "        \n",
    "        if done:\n",
    "            return reward"
   ]
  },
  {
   "cell_type": "code",
   "execution_count": 33,
   "id": "bb8343d9-6e78-40f3-adab-57a1540453a9",
   "metadata": {
    "scrolled": true,
    "tags": []
   },
   "outputs": [],
   "source": [
    "EPISODES = 100000\n",
    "MAX_STEPS = 100  # max steps before terminating an episode\n",
    "\n",
    "agent = SARSA(e=1, lr=0.2)\n",
    "returns = []\n",
    "\n",
    "for i in range(EPISODES):\n",
    "    \n",
    "    episode(env, agent);\n",
    "    \n",
    "    if agent.e >= 0.2:\n",
    "        agent.e *= 0.996\n",
    "        \n",
    "    if i % 200 == 199:\n",
    "        agent.test_mode = True\n",
    "        r = [episode(env, agent) for _ in range(10)]\n",
    "        returns.append(sum(r) / len(r))\n",
    "        agent.test_mode = False"
   ]
  },
  {
   "cell_type": "code",
   "execution_count": 34,
   "id": "2bb227af-9c3d-4e7f-a271-09908accbe5a",
   "metadata": {},
   "outputs": [
    {
     "data": {
      "text/plain": [
       "array([[[0.283, 0.297, 0.499, 0.293],\n",
       "        [0.333, 0.   , 0.602, 0.297],\n",
       "        [0.351, 0.698, 0.313, 0.367],\n",
       "        [0.399, 0.   , 0.32 , 0.29 ]],\n",
       "\n",
       "       [[0.339, 0.279, 0.   , 0.353],\n",
       "        [0.   , 0.   , 0.   , 0.   ],\n",
       "        [0.   , 0.793, 0.   , 0.446],\n",
       "        [0.   , 0.   , 0.   , 0.   ]],\n",
       "\n",
       "       [[0.409, 0.   , 0.599, 0.425],\n",
       "        [0.463, 0.756, 0.581, 0.   ],\n",
       "        [0.624, 0.895, 0.   , 0.491],\n",
       "        [0.   , 0.   , 0.   , 0.   ]],\n",
       "\n",
       "       [[0.   , 0.   , 0.   , 0.   ],\n",
       "        [0.   , 0.772, 0.892, 0.565],\n",
       "        [0.764, 0.877, 1.   , 0.731],\n",
       "        [0.   , 0.   , 0.   , 0.   ]]])"
      ]
     },
     "execution_count": 34,
     "metadata": {},
     "output_type": "execute_result"
    }
   ],
   "source": [
    "agent.q"
   ]
  },
  {
   "cell_type": "code",
   "execution_count": 35,
   "id": "6f5fa34f-f2b6-40a2-ad7a-9debada23924",
   "metadata": {},
   "outputs": [
    {
     "data": {
      "image/png": "[encoded data removed]",
      "text/plain": [
       "<Figure size 432x288 with 1 Axes>"
      ]
     },
     "metadata": {
      "needs_background": "light"
     },
     "output_type": "display_data"
    }
   ],
   "source": [
    "plt.scatter(range(len(returns)), returns);"
   ]
  },
  {
   "cell_type": "code",
   "execution_count": 36,
   "id": "10bd6cc8-53cc-427b-a150-a859c4f1ea82",
   "metadata": {},
   "outputs": [],
   "source": [
    "def pretty(x : int):\n",
    "    if   x == 0:\n",
    "        return '←'\n",
    "    elif x == 1:\n",
    "        return '↓'\n",
    "    elif x == 2:\n",
    "        return '→'\n",
    "    else:\n",
    "        return '↑'\n",
    "pretty = np.vectorize(pretty)"
   ]
  },
  {
   "cell_type": "code",
   "execution_count": 37,
   "id": "ea70d6a6-4d6b-4ba9-9187-a7c3e2f0fa42",
   "metadata": {},
   "outputs": [
    {
     "data": {
      "text/plain": [
       "array([['→', '→', '↓', '←'],\n",
       "       ['↑', 'X', '↓', 'X'],\n",
       "       ['→', '↓', '↓', 'X'],\n",
       "       ['X', '→', '→', 'X']], dtype='<U1')"
      ]
     },
     "execution_count": 37,
     "metadata": {},
     "output_type": "execute_result"
    }
   ],
   "source": [
    "# visualize policy\n",
    "# terminal states are marked with X\n",
    "\n",
    "np.array([pretty(np.argmax(agent.q, axis=2)[i,j]) \n",
    "          if not np.all(agent.q[i,j]==0) else 'X' \n",
    "          for i in range(4) for j in range(4)\n",
    "          ]).reshape(4,4)"
   ]
  },
  {
   "cell_type": "markdown",
   "id": "494a1f7f-707e-437d-a0cd-e3a6fe9fac76",
   "metadata": {},
   "source": [
    "# Q-Learning"
   ]
  },
  {
   "cell_type": "code",
   "execution_count": 38,
   "id": "45dfe507-8f76-4161-9183-4c4c3104cf05",
   "metadata": {},
   "outputs": [],
   "source": [
    "class QL(SARSA):\n",
    "    \n",
    "    def __init__(self, *args, **kwargs):\n",
    "        super().__init__(*args, **kwargs)\n",
    "    \n",
    "    def learn(self, state, action, state_, action_, reward, done):\n",
    "        q_next = np.max(self.q[state_]) if not done else 0.0         # <- difference\n",
    "        td_error = reward + self.y*q_next - self.q[(*state, action)]\n",
    "        self.q[(*state, action)] += self.lr * td_error"
   ]
  },
  {
   "cell_type": "code",
   "execution_count": 39,
   "id": "1f928082-1a62-44ef-9a19-da9c161c42c7",
   "metadata": {},
   "outputs": [],
   "source": [
    "EPISODES = 100000\n",
    "MAX_STEPS = 100\n",
    "\n",
    "agent = QL(e=1, lr=0.2)\n",
    "returns = []\n",
    "\n",
    "for i in range(EPISODES):\n",
    "    \n",
    "    episode(env, agent);\n",
    "    \n",
    "    if agent.e >= 0.2:\n",
    "        agent.e *= 0.996\n",
    "        \n",
    "    if i % 200 == 199:\n",
    "        agent.test_mode = True\n",
    "        r = [episode(env, agent) for _ in range(10)]\n",
    "        returns.append(sum(r) / len(r))\n",
    "        agent.test_mode = False"
   ]
  },
  {
   "cell_type": "code",
   "execution_count": 40,
   "id": "85ae9e08-4f56-45a4-8fcc-05e6cabe6c45",
   "metadata": {},
   "outputs": [
    {
     "data": {
      "text/plain": [
       "array([[[0.531, 0.59 , 0.59 , 0.531],\n",
       "        [0.531, 0.   , 0.656, 0.59 ],\n",
       "        [0.59 , 0.729, 0.59 , 0.656],\n",
       "        [0.656, 0.   , 0.246, 0.427]],\n",
       "\n",
       "       [[0.59 , 0.656, 0.   , 0.531],\n",
       "        [0.   , 0.   , 0.   , 0.   ],\n",
       "        [0.   , 0.81 , 0.   , 0.656],\n",
       "        [0.   , 0.   , 0.   , 0.   ]],\n",
       "\n",
       "       [[0.656, 0.   , 0.729, 0.59 ],\n",
       "        [0.656, 0.81 , 0.81 , 0.   ],\n",
       "        [0.729, 0.9  , 0.   , 0.729],\n",
       "        [0.   , 0.   , 0.   , 0.   ]],\n",
       "\n",
       "       [[0.   , 0.   , 0.   , 0.   ],\n",
       "        [0.   , 0.81 , 0.9  , 0.729],\n",
       "        [0.81 , 0.9  , 1.   , 0.81 ],\n",
       "        [0.   , 0.   , 0.   , 0.   ]]])"
      ]
     },
     "execution_count": 40,
     "metadata": {},
     "output_type": "execute_result"
    }
   ],
   "source": [
    "agent.q"
   ]
  },
  {
   "cell_type": "code",
   "execution_count": 41,
   "id": "b934a7b8-b9c6-424e-a8ad-fca0fae22b1d",
   "metadata": {},
   "outputs": [
    {
     "data": {
      "image/png": "[encoded data removed]",
      "text/plain": [
       "<Figure size 432x288 with 1 Axes>"
      ]
     },
     "metadata": {
      "needs_background": "light"
     },
     "output_type": "display_data"
    }
   ],
   "source": [
    "plt.scatter(range(len(returns)), returns);"
   ]
  },
  {
   "cell_type": "code",
   "execution_count": 42,
   "id": "7f577c8a-3d28-45a6-b746-419847878c88",
   "metadata": {},
   "outputs": [
    {
     "data": {
      "text/plain": [
       "array([['↓', '→', '↓', '←'],\n",
       "       ['↓', 'X', '↓', 'X'],\n",
       "       ['→', '↓', '↓', 'X'],\n",
       "       ['X', '→', '→', 'X']], dtype='<U1')"
      ]
     },
     "execution_count": 42,
     "metadata": {},
     "output_type": "execute_result"
    }
   ],
   "source": [
    "np.array([pretty(np.argmax(agent.q, axis=2)[i,j]) \n",
    "          if not np.all(agent.q[i,j]==0) else 'X' \n",
    "          for i in range(4) for j in range(4)\n",
    "          ]).reshape(4,4)"
   ]
  },
  {
   "cell_type": "code",
   "execution_count": null,
   "id": "abca6f47-5dd4-487d-8569-13d338364581",
   "metadata": {},
   "outputs": [],
   "source": []
  }
 ],
 "metadata": {
  "kernelspec": {
   "display_name": "Python 3 (ipykernel)",
   "language": "python",
   "name": "python3"
  },
  "language_info": {
   "codemirror_mode": {
    "name": "ipython",
    "version": 3
   },
   "file_extension": ".py",
   "mimetype": "text/x-python",
   "name": "python",
   "nbconvert_exporter": "python",
   "pygments_lexer": "ipython3",
   "version": "3.8.10"
  }
 },
 "nbformat": 4,
 "nbformat_minor": 5
}
