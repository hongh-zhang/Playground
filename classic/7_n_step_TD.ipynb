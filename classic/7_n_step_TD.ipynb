{
 "cells": [
  {
   "cell_type": "code",
   "execution_count": 1,
   "id": "c674481f-a378-4091-80f0-470a3d29f9ce",
   "metadata": {},
   "outputs": [],
   "source": [
    "import gym\n",
    "import numpy as np\n",
    "from collections import deque\n",
    "import matplotlib.pyplot as plt\n",
    "\n",
    "np.set_printoptions(precision=3)"
   ]
  },
  {
   "cell_type": "code",
   "execution_count": 2,
   "id": "4eb3131c-69f7-4d3a-9408-e78f378d62cf",
   "metadata": {},
   "outputs": [
    {
     "name": "stdout",
     "output_type": "stream",
     "text": [
      "[[b'S' b'F' b'F' b'F']\n",
      " [b'F' b'H' b'F' b'H']\n",
      " [b'F' b'F' b'F' b'H']\n",
      " [b'H' b'F' b'F' b'G']]\n"
     ]
    }
   ],
   "source": [
    "SIZE = 4  # map size\n",
    "\n",
    "env = gym.make('FrozenLake-v1', is_slippery=False)\n",
    "print(env.desc)\n",
    "\n",
    "def int2loc(x):\n",
    "    \"\"\"\n",
    "    Convert state number into 2d matrix index\n",
    "    e.g. 3 -> (0, 4),  4 -> (1, 0)\n",
    "    \"\"\"\n",
    "    return (x // SIZE, x % SIZE)\n",
    "\n",
    "assert int2loc(8) == (2,0)"
   ]
  },
  {
   "cell_type": "markdown",
   "id": "28cdaa92-35bb-4df6-b939-cf2eb055710e",
   "metadata": {},
   "source": [
    "# n-step Q-learning"
   ]
  },
  {
   "cell_type": "code",
   "execution_count": null,
   "id": "d472b3dd-d203-42ba-8f02-ae91d316c96e",
   "metadata": {},
   "outputs": [],
   "source": [
    "# *not to be confused with Q(sigma) described in the book\n",
    "# this is actually an alternative to n-step SARSA"
   ]
  },
  {
   "cell_type": "code",
   "execution_count": 6,
   "id": "e2b56e5f-594c-467e-bf5a-a7398c8c5515",
   "metadata": {},
   "outputs": [],
   "source": [
    "def episode(env, agent, test=False):\n",
    "    \n",
    "    agent.test_mode = test\n",
    "    state = int2loc(env.reset())\n",
    "    \n",
    "    for step in range(MAX_STEPS):\n",
    "        \n",
    "        # choose next action\n",
    "        action = agent.action(state)\n",
    "        \n",
    "        # take action & observe\n",
    "        state_, reward, done, _ = env.step(action)\n",
    "        state_ = int2loc(state_)\n",
    "        agent.observe(reward, state_, done);\n",
    "\n",
    "        if done:\n",
    "            return reward\n",
    "        \n",
    "        # iter to next step\n",
    "        state = state_"
   ]
  },
  {
   "cell_type": "code",
   "execution_count": 37,
   "id": "307f44c6-f483-43dc-85d0-69c64bb024d4",
   "metadata": {},
   "outputs": [],
   "source": [
    "def cum_returns(rewards, gamma):\n",
    "    \"\"\"Discounted cumulative return on a given reward sequence\"\"\"\n",
    "    return sum([(gamma ** i) * rewards[i] for i in range(len(rewards))])\n",
    "    \n",
    "class NQL():\n",
    "    \n",
    "    def __init__(self, n=3, choice=[0,1,2,3], shape=(SIZE, SIZE, 4), e=0.8, y=0.9, lr=1e-1,):\n",
    "        \n",
    "        self.n  = n\n",
    "        self.state_actions = deque(maxlen=n)\n",
    "        self.rewards = deque(maxlen=n)\n",
    "        \n",
    "        self.e  = e  # epsilon\n",
    "        self.y  = y  # gamma\n",
    "        self.lr = lr  # learning rate\n",
    "        self.q = np.random.randn(*shape)  # q value array\n",
    "        self.choice = choice  # action space\n",
    "        \n",
    "        self.test_mode = False\n",
    "    \n",
    "    def action(self, state):\n",
    "        if not self.test_mode and np.random.rand() <= self.e:\n",
    "            action = np.random.choice(self.choice)\n",
    "        else:\n",
    "            action = np.argmax(self.q[state])\n",
    "        self.state_actions.append((*state, action))\n",
    "        return action\n",
    "    \n",
    "    def observe(self, reward, state_, done):\n",
    "        self.rewards.append(reward)\n",
    "        \n",
    "        # start learning once enough steps are simulated\n",
    "        if len(self.rewards) == self.n:\n",
    "            self.learn(state_, done)\n",
    "    \n",
    "    def reset(self):\n",
    "        self.state_actions = deque(maxlen=self.n)\n",
    "        self.rewards = deque(maxlen=self.n)\n",
    "    \n",
    "    def learn(self, state_, done):\n",
    "        \n",
    "        if not done:\n",
    "            # update according to t:t+n rewards\n",
    "            idx = self.state_actions[0]  # index for (state, action)\n",
    "            g = cum_returns(self.rewards, self.y) + (self.y ** self.n) * np.max(self.q[state_])\n",
    "            self.q[idx] += self.lr * (g - self.q[idx])\n",
    "        \n",
    "        else:\n",
    "            # update with n-1, n-2, ... steps\n",
    "            for i in range(self.n):\n",
    "                idx = self.state_actions[i]\n",
    "                g = cum_returns(list(self.rewards)[i:], self.y) + 0.0\n",
    "                self.q[idx] += self.lr * (g - self.q[idx])"
   ]
  },
  {
   "cell_type": "code",
   "execution_count": 38,
   "id": "d4187805-736d-4a48-ae25-9f297df9baf0",
   "metadata": {},
   "outputs": [],
   "source": [
    "EPISODES = 1000\n",
    "MAX_STEPS = 100  # max steps before terminating an episode\n",
    "\n",
    "agents = [NQL(n=5, e=0.4, lr=0.2) for _ in range(5)]\n",
    "rewards = []\n",
    "\n",
    "for i in range(EPISODES):\n",
    "    \n",
    "    [episode(env, agt) for agt in agents];\n",
    "        \n",
    "    if i % 20 == 0:\n",
    "        r = [episode(env, agt, test=True) for agt in agents]\n",
    "        rewards.append(sum(r) / len(r))\n",
    "        \n",
    "    [agt.reset() for agt in agents];"
   ]
  },
  {
   "cell_type": "code",
   "execution_count": 39,
   "id": "c38172d6-5ad2-49c6-8c00-f00cc3609dc7",
   "metadata": {},
   "outputs": [
    {
     "data": {
      "image/png": "[encoded data removed]",
      "text/plain": [
       "<Figure size 432x288 with 1 Axes>"
      ]
     },
     "metadata": {
      "needs_background": "light"
     },
     "output_type": "display_data"
    }
   ],
   "source": [
    "plt.scatter(range(len(rewards)), rewards);"
   ]
  },
  {
   "cell_type": "code",
   "execution_count": 40,
   "id": "b9988d5a-eaab-41df-bb27-889052309f5d",
   "metadata": {},
   "outputs": [
    {
     "data": {
      "text/plain": [
       "array([['→', '→', '↓', '←'],\n",
       "       ['↑', 'H', '↓', 'H'],\n",
       "       ['↓', '→', '↓', 'H'],\n",
       "       ['H', '→', '→', 'G']], dtype='<U1')"
      ]
     },
     "execution_count": 40,
     "metadata": {},
     "output_type": "execute_result"
    }
   ],
   "source": [
    "arrows = np.array(['←','↓','→','↑'])\n",
    "np.array([arrows[np.argmax(agents[0].q, axis=2)[i,j]] \n",
    "          if (env.desc[i,j] == env.desc[0,0]) or (env.desc[i,j] == env.desc[0,1]) else env.desc[i,j]\n",
    "          for i in range(4) for j in range(4)\n",
    "          ]).reshape(4,4)"
   ]
  },
  {
   "cell_type": "code",
   "execution_count": null,
   "id": "1d501554-cd0c-4ac6-83fa-8a85dd385221",
   "metadata": {},
   "outputs": [],
   "source": [
    "# TODO\n",
    "# implement off-policy n-step methods"
   ]
  }
 ],
 "metadata": {
  "kernelspec": {
   "display_name": "Python 3 (ipykernel)",
   "language": "python",
   "name": "python3"
  },
  "language_info": {
   "codemirror_mode": {
    "name": "ipython",
    "version": 3
   },
   "file_extension": ".py",
   "mimetype": "text/x-python",
   "name": "python",
   "nbconvert_exporter": "python",
   "pygments_lexer": "ipython3",
   "version": "3.8.10"
  }
 },
 "nbformat": 4,
 "nbformat_minor": 5
}
