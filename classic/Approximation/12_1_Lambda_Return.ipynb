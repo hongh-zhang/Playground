{
 "cells": [
  {
   "cell_type": "code",
   "execution_count": 1,
   "id": "2ad59ea5-4726-41d2-9105-4fb54bc1bd51",
   "metadata": {},
   "outputs": [],
   "source": [
    "import numpy as np\n",
    "import matplotlib.pyplot as plt\n",
    "np.set_printoptions(precision=2, suppress=True)"
   ]
  },
  {
   "cell_type": "code",
   "execution_count": 2,
   "id": "d6350058-8953-4395-bdcd-646f72529772",
   "metadata": {},
   "outputs": [],
   "source": [
    "# Random walk with 100 states\n",
    "class RandomWalk():\n",
    "    \n",
    "    def __init__(self, ):\n",
    "        self.init()\n",
    "    \n",
    "    def init(self):\n",
    "        self.s = 50\n",
    "        return np.array(self.s)\n",
    "        \n",
    "    def step(self):\n",
    "        \n",
    "        step = int(np.round(np.random.rand() * 20 - 10))\n",
    "        self.s += step\n",
    "        \n",
    "        if self.s < 0:\n",
    "            return np.array(self.s), -1, True\n",
    "        elif self.s >= 100:\n",
    "            return np.array(self.s), 1, True\n",
    "        else:\n",
    "            return np.array(self.s), 0, False"
   ]
  },
  {
   "cell_type": "code",
   "execution_count": 3,
   "id": "57bbb1b6-27a5-4604-9e61-2622dc16683e",
   "metadata": {},
   "outputs": [],
   "source": [
    "# MC sampling with forward view lambda-return in section 12.1\n",
    "class OfflineLambda():\n",
    "    def __init__(self, table, alpha, lambda_):\n",
    "        self.table = table\n",
    "        self.alpha = alpha\n",
    "        self.lambda_ = lambda_\n",
    "        \n",
    "    def episode(self, env):\n",
    "        state = env.init()\n",
    "        state_ls  = [state]\n",
    "        reward_ls = []\n",
    "\n",
    "        t=0\n",
    "        while True:\n",
    "            state, reward, termination = env.step()\n",
    "            reward_ls.append(reward)\n",
    "            if termination:\n",
    "                break\n",
    "            else:\n",
    "                state_ls.append(state)\n",
    "        \n",
    "        # learning occurs at the end of episode similar to MC\n",
    "        self.learn(state_ls, reward_ls)\n",
    "        \n",
    "    def learn(self, states, rewards):\n",
    "        \n",
    "        T = len(states)\n",
    "        \n",
    "        # discount table for 0:T\n",
    "        discounts = np.array([(1-self.lambda_)*self.lambda_**(t) for t in range(T)])\n",
    "        \n",
    "        for t in range(T):\n",
    "            # the lambda return\n",
    "            # equation (12.3)\n",
    "            target = np.sum(discounts[:(T-t-1)] * rewards[t:-1]) + self.lambda_**(T-t-1) * rewards[-1]\n",
    "            \n",
    "            # tabular learning update\n",
    "            self.table[states[t]] += self.alpha * (target - self.table[states[t]])"
   ]
  },
  {
   "cell_type": "code",
   "execution_count": 5,
   "id": "89f1b1fe-d4de-4d06-b61b-985a6abb7b54",
   "metadata": {},
   "outputs": [
    {
     "data": {
      "text/plain": [
       "array([-0.89, -0.83, -0.83, -0.77, -0.3 , -0.6 , -0.39, -0.28, -0.5 ,\n",
       "       -0.19, -0.38, -0.65, -0.13, -0.24, -0.46, -0.34, -0.15, -0.28,\n",
       "       -0.05, -0.25, -0.2 , -0.14, -0.12, -0.12, -0.06, -0.13, -0.13,\n",
       "       -0.09, -0.06, -0.01, -0.  , -0.08, -0.  ,  0.  , -0.07, -0.01,\n",
       "       -0.07, -0.02,  0.  , -0.02, -0.01,  0.  , -0.01, -0.01, -0.02,\n",
       "       -0.01,  0.  , -0.  , -0.  ,  0.  , -0.01,  0.  ,  0.  , -0.  ,\n",
       "        0.01, -0.  ,  0.01,  0.  ,  0.  ,  0.06,  0.  ,  0.  ,  0.02,\n",
       "        0.  ,  0.  ,  0.01,  0.  ,  0.  ,  0.07,  0.08,  0.08,  0.02,\n",
       "        0.01,  0.01,  0.09,  0.02,  0.02,  0.05,  0.03,  0.1 ,  0.03,\n",
       "        0.25,  0.11,  0.03,  0.33,  0.32,  0.35,  0.23,  0.41,  0.47,\n",
       "        0.23,  0.36,  0.75,  0.75,  0.67,  0.52,  0.46,  0.81,  0.7 ,\n",
       "        0.97])"
      ]
     },
     "execution_count": 5,
     "metadata": {},
     "output_type": "execute_result"
    }
   ],
   "source": [
    "predictor = OfflineLambda(np.zeros(100), 0.4, 0.8)\n",
    "for _ in range(100):\n",
    "    predictor.episode(RandomWalk())\n",
    "    \n",
    "print(predictor.table)"
   ]
  },
  {
   "cell_type": "code",
   "execution_count": 6,
   "id": "cabd51f7-797d-443b-ac9d-ef6a82fb024d",
   "metadata": {},
   "outputs": [
    {
     "data": {
      "text/plain": [
       "[<matplotlib.lines.Line2D at 0x17e35696a30>]"
      ]
     },
     "execution_count": 6,
     "metadata": {},
     "output_type": "execute_result"
    },
    {
     "data": {
      "image/png": "[encoded data removed]",
      "text/plain": [
       "<Figure size 432x288 with 1 Axes>"
      ]
     },
     "metadata": {
      "needs_background": "light"
     },
     "output_type": "display_data"
    }
   ],
   "source": [
    "plt.plot(predictor.table)"
   ]
  },
  {
   "cell_type": "code",
   "execution_count": null,
   "id": "cffda1d8-53d0-4b07-a896-30c48b729949",
   "metadata": {},
   "outputs": [],
   "source": []
  }
 ],
 "metadata": {
  "kernelspec": {
   "display_name": "Python 3 (ipykernel)",
   "language": "python",
   "name": "python3"
  },
  "language_info": {
   "codemirror_mode": {
    "name": "ipython",
    "version": 3
   },
   "file_extension": ".py",
   "mimetype": "text/x-python",
   "name": "python",
   "nbconvert_exporter": "python",
   "pygments_lexer": "ipython3",
   "version": "3.8.10"
  }
 },
 "nbformat": 4,
 "nbformat_minor": 5
}
