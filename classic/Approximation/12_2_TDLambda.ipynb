{
 "cells": [
  {
   "cell_type": "code",
   "execution_count": 1,
   "id": "d32299d5-d73e-43cd-9f56-40beaf795da3",
   "metadata": {},
   "outputs": [],
   "source": [
    "import numpy as np\n",
    "import matplotlib.pyplot as plt\n",
    "np.set_printoptions(precision=2, suppress=True)"
   ]
  },
  {
   "cell_type": "code",
   "execution_count": 44,
   "id": "e026bee0-ca93-4d67-bf51-39ca8a4a77fb",
   "metadata": {},
   "outputs": [],
   "source": [
    "# Random walk with 100 states\n",
    "class RandomWalk():\n",
    "    \n",
    "    def __init__(self, ):\n",
    "        self.init()\n",
    "    \n",
    "    def init(self):\n",
    "        self.s = 50\n",
    "        return self.form_state(self.s)\n",
    "        \n",
    "    def step(self):\n",
    "        \n",
    "        step = int(np.round(np.random.rand() * 20 - 10))\n",
    "        self.s += step\n",
    "        \n",
    "        if self.s < 0:\n",
    "            return self.form_state(self.s), -1, True\n",
    "        elif self.s >= 100:\n",
    "            return self.form_state(self.s), 1, True\n",
    "        else:\n",
    "            return self.form_state(self.s), 0, False\n",
    "        \n",
    "    # output state aggregation [0,100] -> [0,10]\n",
    "    def form_state(self, state):\n",
    "        output = np.zeros(12)\n",
    "        output[int((state+10)/10)] = 1\n",
    "        return output"
   ]
  },
  {
   "cell_type": "code",
   "execution_count": 45,
   "id": "aa58717e-6362-4c64-8fe0-178837e57bbd",
   "metadata": {},
   "outputs": [],
   "source": [
    "# TD(lambda) in section 12.2\n",
    "class TDlambda():\n",
    "    def __init__(self, weights, alpha, gamma, lambda_):\n",
    "        self.weights = weights\n",
    "        self.alpha = alpha\n",
    "        self.gamma = gamma\n",
    "        self.lambda_ = lambda_\n",
    "        \n",
    "    def episode(self, env):\n",
    "        state = env.init()\n",
    "        trace = np.zeros_like(self.weights)  # eligibility trace Z\n",
    "        \n",
    "        while True:\n",
    "            state_, reward, termination = env.step()\n",
    "            \n",
    "            trace = self.gamma * self.lambda_ * trace + state\n",
    "            delta = reward + self.gamma * self.value(state_) - self.value(state)\n",
    "            \n",
    "            self.weights += self.alpha * delta * trace\n",
    "            \n",
    "            state = state_\n",
    "            \n",
    "            if termination:\n",
    "                break\n",
    "                \n",
    "    def value(self, state):\n",
    "        return np.dot(self.weights, state)"
   ]
  },
  {
   "cell_type": "code",
   "execution_count": 46,
   "id": "bc05fe5d-2042-48b3-9319-b30f0b6b8d17",
   "metadata": {},
   "outputs": [],
   "source": [
    "predictor = TDlambda(np.zeros(12), 0.4, 0.9, 0.2)\n",
    "for _ in range(100):\n",
    "    predictor.episode(RandomWalk())"
   ]
  },
  {
   "cell_type": "code",
   "execution_count": 47,
   "id": "1391d144-e2fb-4aa0-a96c-fd1326dac35b",
   "metadata": {},
   "outputs": [
    {
     "data": {
      "text/plain": [
       "array([ 0.  , -0.74, -0.52, -0.27, -0.08,  0.01,  0.09,  0.15,  0.25,\n",
       "        0.35,  0.61,  0.  ])"
      ]
     },
     "execution_count": 47,
     "metadata": {},
     "output_type": "execute_result"
    }
   ],
   "source": [
    "predictor.weights"
   ]
  },
  {
   "cell_type": "code",
   "execution_count": null,
   "id": "5cc9a098-e557-4795-bedd-35613fabe643",
   "metadata": {},
   "outputs": [],
   "source": []
  }
 ],
 "metadata": {
  "kernelspec": {
   "display_name": "Python 3 (ipykernel)",
   "language": "python",
   "name": "python3"
  },
  "language_info": {
   "codemirror_mode": {
    "name": "ipython",
    "version": 3
   },
   "file_extension": ".py",
   "mimetype": "text/x-python",
   "name": "python",
   "nbconvert_exporter": "python",
   "pygments_lexer": "ipython3",
   "version": "3.8.10"
  }
 },
 "nbformat": 4,
 "nbformat_minor": 5
}
