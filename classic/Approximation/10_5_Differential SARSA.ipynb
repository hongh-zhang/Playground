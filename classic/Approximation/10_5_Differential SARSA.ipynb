{
 "cells": [
  {
   "cell_type": "code",
   "execution_count": 1,
   "id": "689f25af-55d7-4fd0-8c03-2d8e2cdec53b",
   "metadata": {},
   "outputs": [],
   "source": [
    "import numpy as np\n",
    "import matplotlib.pyplot as plt\n",
    "np.set_printoptions(precision=2)"
   ]
  },
  {
   "cell_type": "code",
   "execution_count": 2,
   "id": "06360ce3-94c4-4b3f-b9ad-bf8e8656925a",
   "metadata": {},
   "outputs": [],
   "source": [
    "# Example 10.2 on p252\n",
    "# Access control task\n",
    "class AccessControl():\n",
    "    def __init__(self, free_prob=0.06, max_server=10):\n",
    "        \n",
    "        self.free_prob = free_prob\n",
    "        self.max_server = max_server\n",
    "    \n",
    "    def init(self):\n",
    "        self.n_free = self.max_server\n",
    "        self.get_customer()\n",
    "        return np.array([self.curr_customer, self.n_free])\n",
    "        \n",
    "    def get_customer(self):\n",
    "        customer = np.random.choice([0,1,2,3])\n",
    "        self.curr_customer = customer\n",
    "    \n",
    "    def step(self, action):\n",
    "        \n",
    "        # calculate servers to freed up\n",
    "        busy = self.max_server - self.n_free\n",
    "        freed = np.random.binomial(busy, self.free_prob)\n",
    "        \n",
    "        \n",
    "        if action:\n",
    "            # allocate server & return reward\n",
    "            if self.n_free >= 1:\n",
    "                self.n_free -= 1\n",
    "                reward = 2**self.curr_customer\n",
    "                \n",
    "            # penalise when no serve is available\n",
    "            else:\n",
    "                reward = -1 \n",
    "        else:\n",
    "            reward = 0\n",
    "        \n",
    "        # free up server\n",
    "        self.n_free += freed\n",
    "        \n",
    "        # generate next customer\n",
    "        self.get_customer()\n",
    "        \n",
    "        return np.array([self.curr_customer, self.n_free]), reward"
   ]
  },
  {
   "cell_type": "code",
   "execution_count": 3,
   "id": "67b2c16a-736b-4015-95e2-6eb4c3b6bf63",
   "metadata": {},
   "outputs": [],
   "source": [
    "# average reward SARSA using tabular method\n",
    "class AvgSARSA():\n",
    "    def __init__(self, table, alpha, epsilon, rhat, beta):\n",
    "        self.table = table\n",
    "        self.alpha = alpha\n",
    "        self.epsilon = epsilon\n",
    "        \n",
    "        self.rhat = rhat\n",
    "        self.beta = beta\n",
    "        \n",
    "    def act(self, state):\n",
    "        if np.random.rand() < self.epsilon:\n",
    "            return np.random.choice([0,1])\n",
    "        else:\n",
    "            return np.argmax(self.table[tuple(state)])\n",
    "        \n",
    "    def learn(self, env, iterations):\n",
    "        state = env.init()\n",
    "        action = self.act(state)\n",
    "        for _ in range(iterations):\n",
    "            # act & observe\n",
    "            state_, reward = env.step(action)\n",
    "            action_ = self.act(state_)\n",
    "\n",
    "            # update\n",
    "            self.table[tuple(state)][action] += self.alpha * (reward-self.rhat+self.table[tuple(state_)][action_]-self.table[tuple(state)][action])\n",
    "            self.rhat += self.beta * (reward - self.rhat)\n",
    "            \n",
    "            # iterate\n",
    "            state = state_\n",
    "            action = action_"
   ]
  },
  {
   "cell_type": "code",
   "execution_count": 4,
   "id": "04d3bbd2-7599-49f2-8d8b-136180ecb54f",
   "metadata": {},
   "outputs": [
    {
     "data": {
      "image/png": "[encoded data removed]",
      "text/plain": [
       "<Figure size 432x288 with 1 Axes>"
      ]
     },
     "metadata": {
      "needs_background": "light"
     },
     "output_type": "display_data"
    }
   ],
   "source": [
    "env = ServerAllocation()\n",
    "agent = AvgSARSA(np.zeros((4,11,2)), 0.01, 0.1, 0., 0.01)\n",
    "agent.learn(env, 100000)\n",
    "\n",
    "policy = np.diff(agent.table, axis=-1).reshape(4,11) > 0\n",
    "plt.imshow(policy, cmap='hot')\n",
    "plt.show()\n",
    "\n",
    "# figure 10.6"
   ]
  },
  {
   "cell_type": "code",
   "execution_count": null,
   "id": "a4328e7f-4bf6-49b6-8f57-7613f4f190e0",
   "metadata": {},
   "outputs": [],
   "source": []
  }
 ],
 "metadata": {
  "kernelspec": {
   "display_name": "Python 3 (ipykernel)",
   "language": "python",
   "name": "python3"
  },
  "language_info": {
   "codemirror_mode": {
    "name": "ipython",
    "version": 3
   },
   "file_extension": ".py",
   "mimetype": "text/x-python",
   "name": "python",
   "nbconvert_exporter": "python",
   "pygments_lexer": "ipython3",
   "version": "3.8.10"
  }
 },
 "nbformat": 4,
 "nbformat_minor": 5
}
