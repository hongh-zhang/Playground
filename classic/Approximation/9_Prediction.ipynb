{
 "cells": [
  {
   "cell_type": "code",
   "execution_count": 1,
   "id": "19c374a9-e77d-457f-bfce-80bcd07c6854",
   "metadata": {},
   "outputs": [],
   "source": [
    "import numpy as np\n",
    "np.set_printoptions(precision=2)"
   ]
  },
  {
   "cell_type": "code",
   "execution_count": 2,
   "id": "91e56492-9581-4df4-b973-ce7fea399016",
   "metadata": {},
   "outputs": [],
   "source": [
    "# example environment used in section 9\n",
    "# description on p203\n",
    "\n",
    "class RandomWalk():\n",
    "    \n",
    "    def __init__(self, ):\n",
    "        self.init()\n",
    "    \n",
    "    def init(self):\n",
    "        self.s = 500\n",
    "        return np.array(self.s), 0, False\n",
    "        \n",
    "    def step(self):\n",
    "        \n",
    "        step = int(np.round(np.random.rand() * 200 - 100))\n",
    "        self.s += step\n",
    "        \n",
    "        if self.s < 0:\n",
    "            return np.array(self.s), -1, True\n",
    "        elif self.s >= 1000:\n",
    "            return np.array(self.s), 1, True\n",
    "        else:\n",
    "            return np.array(self.s), 0, False"
   ]
  },
  {
   "cell_type": "code",
   "execution_count": 5,
   "id": "3c1ac540-ce25-42d0-8e08-9bc29976a57d",
   "metadata": {},
   "outputs": [],
   "source": [
    "# Monte Carlo Stochastic Gradient Descent\n",
    "\n",
    "class MCSGD():\n",
    "    def __init__(self, func, gamma):\n",
    "        self.func = func\n",
    "        self.gamma = gamma\n",
    "    \n",
    "    def episode(self, env):\n",
    "        states = []\n",
    "        rewards = []\n",
    "        s,r,t = env.init()\n",
    "        while True:\n",
    "            s,r,t = env.step()\n",
    "            states.append(s)\n",
    "            rewards.append(r)\n",
    "            if t:\n",
    "                break\n",
    "        self.update(states, rewards)\n",
    "        \n",
    "    def update(self, states, rewards):\n",
    "        \n",
    "        discount = [1] + list(np.repeat(self.gamma,len(rewards)-1))\n",
    "        discount = np.cumprod(discount)\n",
    "        returns = discount * np.cumsum(rewards[::-1])\n",
    "        \n",
    "        for s, r in zip(states[::-1][1:], returns[1::]):\n",
    "            self.func.update(s, r)"
   ]
  },
  {
   "cell_type": "code",
   "execution_count": 23,
   "id": "06ebf9cb-17a0-4405-a77f-2c2e6177317e",
   "metadata": {
    "tags": []
   },
   "outputs": [
    {
     "name": "stdout",
     "output_type": "stream",
     "text": [
      "[-0.77 -0.57 -0.37 -0.21 -0.05  0.09  0.24  0.39  0.55  0.77]\n"
     ]
    }
   ],
   "source": [
    "# State Aggregation method for random walk\n",
    "# Example 9.1 on p.204\n",
    "\n",
    "class StateAggregation():\n",
    "    def __init__(self, alpha):\n",
    "        self.alpha = alpha\n",
    "        self.values = np.repeat(0.0,10)\n",
    "    \n",
    "    def get_state(self, state):\n",
    "        return int(state/100)\n",
    "    \n",
    "    def get_value(self, state):\n",
    "        return self.values[self.get_state(state)]\n",
    "    \n",
    "    def update(self, state, reward):\n",
    "        state = self.get_state(state)\n",
    "        error = reward - self.values[state]\n",
    "        self.values[state] = self.values[state] + self.alpha * error\n",
    "        \n",
    "\n",
    "env = RandomWalk()\n",
    "f = StateAggregation(alpha=0.05)\n",
    "estimator = MCSGD(f, 0.99)\n",
    "for _ in range(10000):\n",
    "    estimator.episode(env)\n",
    "    f.alpha *= 0.999  # learning rate decay\n",
    "    \n",
    "print(f.values)"
   ]
  },
  {
   "cell_type": "code",
   "execution_count": null,
   "id": "85da2161-d16f-44b5-a691-adb43af6f08c",
   "metadata": {},
   "outputs": [],
   "source": [
    "# TD(0) Stochastic Gradient Descent *WIP\n",
    "class TDSGD():\n",
    "    def __init__(self, func, gamma):\n",
    "        self.func = func\n",
    "        self.gamma = gamma\n",
    "        \n",
    "    def update(self, state, reward, state_):\n",
    "        self.func.update(state, reward, state_)"
   ]
  }
 ],
 "metadata": {
  "kernelspec": {
   "display_name": "Python 3 (ipykernel)",
   "language": "python",
   "name": "python3"
  },
  "language_info": {
   "codemirror_mode": {
    "name": "ipython",
    "version": 3
   },
   "file_extension": ".py",
   "mimetype": "text/x-python",
   "name": "python",
   "nbconvert_exporter": "python",
   "pygments_lexer": "ipython3",
   "version": "3.8.10"
  }
 },
 "nbformat": 4,
 "nbformat_minor": 5
}
