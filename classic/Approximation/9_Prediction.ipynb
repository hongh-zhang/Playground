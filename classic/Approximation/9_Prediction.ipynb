{
 "cells": [
  {
   "cell_type": "code",
   "execution_count": 1,
   "id": "19c374a9-e77d-457f-bfce-80bcd07c6854",
   "metadata": {},
   "outputs": [],
   "source": [
    "import numpy as np\n",
    "import matplotlib.pyplot as plt\n",
    "np.set_printoptions(precision=2)"
   ]
  },
  {
   "cell_type": "code",
   "execution_count": 2,
   "id": "91e56492-9581-4df4-b973-ce7fea399016",
   "metadata": {},
   "outputs": [],
   "source": [
    "# example environment used in section 9\n",
    "# description on p203\n",
    "\n",
    "class RandomWalk():\n",
    "    \n",
    "    def __init__(self, ):\n",
    "        self.init()\n",
    "    \n",
    "    def init(self):\n",
    "        self.s = 500\n",
    "        return np.array(self.s), 0, False\n",
    "        \n",
    "    def step(self):\n",
    "        \n",
    "        step = int(np.round(np.random.rand() * 200 - 100))\n",
    "        self.s += step\n",
    "        \n",
    "        if self.s < 0:\n",
    "            return np.array(self.s), -1, True\n",
    "        elif self.s >= 1000:\n",
    "            return np.array(self.s), 1, True\n",
    "        else:\n",
    "            return np.array(self.s), 0, False"
   ]
  },
  {
   "cell_type": "code",
   "execution_count": 3,
   "id": "06ebf9cb-17a0-4405-a77f-2c2e6177317e",
   "metadata": {
    "tags": []
   },
   "outputs": [],
   "source": [
    "# Monte Carlo Stochastic Gradient Descent\n",
    "\n",
    "class MCSGD():\n",
    "    def __init__(self, func, gamma):\n",
    "        self.func = func\n",
    "        self.gamma = gamma\n",
    "    \n",
    "    def episode(self, env):\n",
    "        states = []\n",
    "        rewards = []\n",
    "        s,r,t = env.init()\n",
    "        while True:\n",
    "            s,r,t = env.step()\n",
    "            states.append(s)\n",
    "            rewards.append(r)\n",
    "            if t:\n",
    "                break\n",
    "        self.update(states, rewards)\n",
    "        \n",
    "    def update(self, states, rewards):\n",
    "        \n",
    "        discount = [1] + list(np.repeat(self.gamma,len(rewards)-1))\n",
    "        discount = np.cumprod(discount)\n",
    "        returns = discount * np.cumsum(rewards[::-1])\n",
    "        \n",
    "        for s, r in zip(states[::-1][1:], returns[1::]):\n",
    "            self.func.update(s, r)\n",
    "            \n",
    "            \n",
    "# State Aggregation method for random walk\n",
    "# Example 9.1 on p.204\n",
    "\n",
    "class StateAggregation():\n",
    "    def __init__(self, alpha):\n",
    "        self.alpha = alpha\n",
    "        self.values = np.repeat(0.0,10)\n",
    "    \n",
    "    def get_state(self, state):\n",
    "        return int(state/100)\n",
    "    \n",
    "    def get_value(self, state):\n",
    "        return self.values[self.get_state(state)]\n",
    "    \n",
    "    def update(self, state, reward):\n",
    "        state = self.get_state(state)\n",
    "        error = reward - self.values[state]\n",
    "        self.values[state] += self.alpha * error"
   ]
  },
  {
   "cell_type": "code",
   "execution_count": 4,
   "id": "4166206e-fae9-4058-b3c0-5c6d7669995c",
   "metadata": {},
   "outputs": [
    {
     "name": "stdout",
     "output_type": "stream",
     "text": [
      "[-0.8  -0.61 -0.36 -0.2  -0.12  0.03  0.18  0.36  0.56  0.75]\n"
     ]
    },
    {
     "data": {
      "image/png": "[encoded data removed]",
      "text/plain": [
       "<Figure size 432x288 with 1 Axes>"
      ]
     },
     "metadata": {
      "needs_background": "light"
     },
     "output_type": "display_data"
    }
   ],
   "source": [
    "env = RandomWalk()\n",
    "f = StateAggregation(alpha=0.05)\n",
    "estimator = MCSGD(f, 0.99)\n",
    "for _ in range(1000):\n",
    "    estimator.episode(env)\n",
    "    f.alpha *= 0.995  # learning rate decay\n",
    "    \n",
    "print(f.values)\n",
    "\n",
    "plt.plot(np.arange(1000),\n",
    "         [f.get_value(i) for i in np.arange(1000)]\n",
    ");"
   ]
  },
  {
   "cell_type": "code",
   "execution_count": 5,
   "id": "85da2161-d16f-44b5-a691-adb43af6f08c",
   "metadata": {},
   "outputs": [],
   "source": [
    "# n-step TD\n",
    "class TDnSGD():\n",
    "    def __init__(self, func, n_step):\n",
    "        self.func = func\n",
    "        self.n_step = n_step\n",
    "        \n",
    "    def episode(self, env):\n",
    "        \n",
    "        # initialize\n",
    "        history = []\n",
    "        state,_,_ = env.init()\n",
    "        \n",
    "        while True:\n",
    "            # observe step\n",
    "            state_, reward, termination = env.step()\n",
    "            history.append((state, reward))\n",
    "            \n",
    "            # update if history is long enough\n",
    "            if len(history) == self.n_step:\n",
    "                self.func.update(history, state_)\n",
    "                \n",
    "            # termination update\n",
    "            if termination:\n",
    "                while len(history) > 0:\n",
    "                    self.func.update(history, state_)\n",
    "                break\n",
    "            \n",
    "            state = state_\n",
    "            \n",
    "            \n",
    "\n",
    "# Linear approximation for n-step TD\n",
    "class LinearApprox():\n",
    "    def __init__(self, weights, alpha, gamma):\n",
    "        self.weights = weights\n",
    "        self.bias = np.ones_like(weights)\n",
    "        self.alpha = alpha\n",
    "        self.gamma = gamma\n",
    "    \n",
    "    def _get_state(self, state):\n",
    "        return np.round((state - 500) / 100)\n",
    "    \n",
    "    def get_value(self, state):\n",
    "        if 0 <= state < 1000:\n",
    "            return np.dot(self._get_state(state), self.weights) + self.bias\n",
    "        # force v(terminal) to zero\n",
    "        else:\n",
    "            return 0\n",
    "\n",
    "    def update(self, history, state_):\n",
    "        \n",
    "        state, reward = history.pop(0)\n",
    "        \n",
    "        # returns G\n",
    "        discounts = np.cumprod(np.repeat(self.gamma, len(history)+1))\n",
    "        returns = [discount*(elem[1]) for elem, discount in zip(history, discounts[:-1])]\n",
    "        returns = sum(returns) + discounts[-1]*self.get_value(state_)\n",
    "        \n",
    "        # error\n",
    "        target = reward + returns\n",
    "        error = target - self.get_value(state)\n",
    "        \n",
    "        # update\n",
    "        self.weights += self.alpha * error * self._get_state(state)\n",
    "        self.bias += self.alpha * error"
   ]
  },
  {
   "cell_type": "code",
   "execution_count": 6,
   "id": "454faeb0-203d-4f24-86d5-60560d6e0fd3",
   "metadata": {
    "tags": []
   },
   "outputs": [
    {
     "name": "stdout",
     "output_type": "stream",
     "text": [
      "Weights: 0.5, Bias: 1.0\n",
      "Weights: 0.1457303925952488, Bias: 0.03233178247003678\n"
     ]
    },
    {
     "data": {
      "image/png": "[encoded data removed]",
      "text/plain": [
       "<Figure size 432x288 with 1 Axes>"
      ]
     },
     "metadata": {
      "needs_background": "light"
     },
     "output_type": "display_data"
    }
   ],
   "source": [
    "env = RandomWalk()\n",
    "f = LinearApprox(np.array(0.5), alpha=0.1, gamma=0.99)\n",
    "estimator = TDnSGD(f, 2)\n",
    "print(f\"Weights: {f.weights}, Bias: {f.bias}\")\n",
    "\n",
    "for _ in range(1000):\n",
    "    estimator.episode(env)\n",
    "    f.alpha *= 0.99\n",
    "print(f\"Weights: {f.weights}, Bias: {f.bias}\")\n",
    "\n",
    "plt.plot(np.arange(1000),\n",
    "         [f.get_value(i) for i in np.arange(1000)]\n",
    ");"
   ]
  },
  {
   "cell_type": "code",
   "execution_count": null,
   "id": "a01f4a8c-b526-4fe3-b09a-97c35152ac32",
   "metadata": {},
   "outputs": [],
   "source": []
  }
 ],
 "metadata": {
  "kernelspec": {
   "display_name": "Python 3 (ipykernel)",
   "language": "python",
   "name": "python3"
  },
  "language_info": {
   "codemirror_mode": {
    "name": "ipython",
    "version": 3
   },
   "file_extension": ".py",
   "mimetype": "text/x-python",
   "name": "python",
   "nbconvert_exporter": "python",
   "pygments_lexer": "ipython3",
   "version": "3.8.10"
  }
 },
 "nbformat": 4,
 "nbformat_minor": 5
}
