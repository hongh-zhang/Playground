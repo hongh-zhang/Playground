{
 "cells": [
  {
   "cell_type": "code",
   "execution_count": 1,
   "id": "518af81e-552a-4110-92bd-76e6a41c96f2",
   "metadata": {},
   "outputs": [
    {
     "name": "stdout",
     "output_type": "stream",
     "text": [
      "[[b'S' b'F' b'F' b'F' b'F' b'F' b'F' b'F']\n",
      " [b'F' b'F' b'F' b'F' b'F' b'F' b'F' b'F']\n",
      " [b'F' b'F' b'F' b'H' b'F' b'F' b'F' b'F']\n",
      " [b'F' b'F' b'F' b'F' b'F' b'H' b'F' b'F']\n",
      " [b'F' b'F' b'F' b'H' b'F' b'F' b'F' b'F']\n",
      " [b'F' b'H' b'H' b'F' b'F' b'F' b'H' b'F']\n",
      " [b'F' b'H' b'F' b'F' b'H' b'F' b'H' b'F']\n",
      " [b'F' b'F' b'F' b'H' b'F' b'F' b'F' b'G']]\n"
     ]
    }
   ],
   "source": [
    "import gym\n",
    "import numpy as np\n",
    "import matplotlib.pyplot as plt\n",
    "\n",
    "np.set_printoptions(precision=3)\n",
    "\n",
    "SIZE = 8  # map size\n",
    "\n",
    "env = gym.make('FrozenLake8x8-v1', is_slippery=False)\n",
    "print(env.desc)\n",
    "\n",
    "def int2loc(x):\n",
    "    \"\"\"\n",
    "    Convert state number into 2d matrix index\n",
    "    e.g. 3 -> (0, 4),  4 -> (1, 0)\n",
    "    \"\"\"\n",
    "    return (x // SIZE, x % SIZE)\n",
    "\n",
    "assert int2loc(8) == (1,0)"
   ]
  },
  {
   "cell_type": "code",
   "execution_count": 2,
   "id": "8ce48eeb-d0d3-400a-bcd6-1ef67f45155d",
   "metadata": {},
   "outputs": [],
   "source": [
    "valid_start = [s for s in range(64) \n",
    "               if env.desc[int2loc(s)] not in \n",
    "               (env.desc[int2loc(63)], env.desc[int2loc(59)])]\n",
    "\n",
    "def random_start(env):\n",
    "    env.reset()\n",
    "    env.env.s = np.random.choice(valid_start)\n",
    "    return env.env.s"
   ]
  },
  {
   "cell_type": "markdown",
   "id": "e8665eb0-7003-4310-a255-40a7e5a138ce",
   "metadata": {},
   "source": [
    "# Dyna-Q"
   ]
  },
  {
   "cell_type": "code",
   "execution_count": 26,
   "id": "e47ce809-49e2-4f0b-990f-70e6735543cd",
   "metadata": {},
   "outputs": [],
   "source": [
    "from collections import namedtuple\n",
    "Feedback = namedtuple('feedback', ('reward', 'state_', 'done'))\n",
    "\n",
    "\n",
    "\n",
    "class Dyna_Q():\n",
    "    \n",
    "    def __init__(self, n=10, e=0.2, y=0.9, lr=0.6, shape=(8,8,4), choice=(0,1,2,3)):\n",
    "        \n",
    "        self.e = e  # epsilon\n",
    "        self.n = n  # steps of planning\n",
    "        self.y = y  # gamma\n",
    "        self.lr = lr  # learning rate\n",
    "        self.choice = choice  # action space\n",
    "        \n",
    "        self.q = np.random.randn(*shape)               # q-values\n",
    "        self.model = np.empty(shape, dtype=Feedback)   # array of Feedback tuples, sample model of the environment\n",
    "        self.visited = np.zeros(shape)                 # boolean array : whether a state-action pair is seen\n",
    "        \n",
    "        self.test_mode = False\n",
    "    \n",
    "    def action(self, state):\n",
    "        # epsilon-greedy policy as usual\n",
    "        if not self.test_mode and np.random.rand() <= self.e:\n",
    "            action = np.random.choice(self.choice)\n",
    "        else:\n",
    "            action = np.argmax(self.q[state])\n",
    "        return action\n",
    "    \n",
    "    def update_q(self, state, action, reward, state_, done):\n",
    "        # one-step q learning as usual\n",
    "        q_next = np.max(self.q[state_]) if not done else 0.0\n",
    "        td_error = reward + self.y*q_next - self.q[(*state, action)]\n",
    "        self.q[(*state, action)] += self.lr * td_error\n",
    "    \n",
    "    def update_model(self, state, action, reward, state_, done):\n",
    "        # record environment feedback to state-action pair\n",
    "        self.model[(*state, action)] = Feedback(reward, state_, done)\n",
    "        self.visited[(*state, action)] = True\n",
    "    \n",
    "    def learn(self, *args):\n",
    "        self.update_model(*args)\n",
    "        self.update_q(*args)\n",
    "    \n",
    "    def plan(self):\n",
    "        \n",
    "        i = j = 0\n",
    "        while i < self.n and j < 200:\n",
    "            \n",
    "            # generate random non-terminal state\n",
    "            state = np.random.randint(0, 62)\n",
    "            \n",
    "            # exclude terminal_state & previously unseen states\n",
    "            if state in valid_start and np.any(self.model[int2loc(state)]):\n",
    "                \n",
    "                state = int2loc(state)\n",
    "                \n",
    "                # sample random previously taken action\n",
    "                action = np.random.choice(self.visited[state].nonzero()[0])\n",
    "\n",
    "                # update q\n",
    "                self.update_q(state, action, *(self.model[(*state, action)]))\n",
    "                \n",
    "                i += 1\n",
    "            j += 1"
   ]
  },
  {
   "cell_type": "code",
   "execution_count": 27,
   "id": "1561cac8-1fa1-4933-8c2d-2a65dbdc34ba",
   "metadata": {},
   "outputs": [],
   "source": [
    "def episode(env, agent, test=False, random=False):\n",
    "    \n",
    "    agent.test_mode = test\n",
    "    \n",
    "    # initialize environment\n",
    "    state = env.reset() if not random else random_start(env)\n",
    "    state = int2loc(state)\n",
    "    \n",
    "    for step in range(MAX_STEPS):\n",
    "        \n",
    "        # act\n",
    "        action = agent.action(state)\n",
    "        state_, reward, done, _ = env.step(action)\n",
    "        state_ = int2loc(state_)\n",
    "        \n",
    "        # observe\n",
    "        agent.learn(state, action, reward, state_, done)\n",
    "\n",
    "        if done:\n",
    "            agent.plan()\n",
    "            return step\n",
    "\n",
    "        state = state_"
   ]
  },
  {
   "cell_type": "code",
   "execution_count": 28,
   "id": "5b7cdfd2-3cd3-4bf4-b11c-c3554a890b83",
   "metadata": {},
   "outputs": [],
   "source": [
    "EPISODES = 1000\n",
    "MAX_STEPS = 200\n",
    "agents = [Dyna_Q() for _ in range(5)]\n",
    "steps = []\n",
    "\n",
    "for i in range(EPISODES):\n",
    "    \n",
    "    [episode(env, agt, test=False, random=True) for agt in agents];\n",
    "    \n",
    "    if i%10 == 0:\n",
    "        steps.append([episode(env, agt, test=True, random=False) for agt in agents])"
   ]
  },
  {
   "cell_type": "code",
   "execution_count": 29,
   "id": "f2e32250-c2ec-4e25-b062-e710afc37540",
   "metadata": {},
   "outputs": [
    {
     "data": {
      "image/png": "[encoded data removed]",
      "text/plain": [
       "<Figure size 432x288 with 1 Axes>"
      ]
     },
     "metadata": {
      "needs_background": "light"
     },
     "output_type": "display_data"
    }
   ],
   "source": [
    "mean_steps = list(map(lambda x: sum(x)/len(x), steps))\n",
    "plt.scatter(range(len(mean_steps)), mean_steps);"
   ]
  },
  {
   "cell_type": "code",
   "execution_count": 30,
   "id": "15c8395b-b9b6-43dc-a434-33b4a32f297d",
   "metadata": {},
   "outputs": [
    {
     "data": {
      "text/plain": [
       "array([['↓', '↓', '↓', '↓', '↓', '↓', '↓', '↓'],\n",
       "       ['→', '→', '→', '→', '↓', '↓', '↓', '↓'],\n",
       "       ['→', '→', '↑', 'H', '↓', '→', '↓', '↓'],\n",
       "       ['→', '→', '↑', '↑', '↓', 'H', '↓', '↓'],\n",
       "       ['↓', '→', '↑', 'H', '↓', '→', '→', '↓'],\n",
       "       ['↓', 'H', 'H', '→', '→', '↓', 'H', '↓'],\n",
       "       ['↓', 'H', '→', '↑', 'H', '↓', 'H', '↓'],\n",
       "       ['→', '→', '↑', 'H', '←', '→', '→', 'G']], dtype='<U1')"
      ]
     },
     "execution_count": 30,
     "metadata": {},
     "output_type": "execute_result"
    }
   ],
   "source": [
    "arrows = np.array(['←','↓','→','↑'])\n",
    "np.array([arrows[np.argmax(agents[0].q, axis=2)[i,j]] \n",
    "          if (env.desc[i,j] == env.desc[0,0]) or (env.desc[i,j] == env.desc[0,1]) else env.desc[i,j]\n",
    "          for i in range(8) for j in range(8)\n",
    "          ]).reshape(8,8)"
   ]
  },
  {
   "cell_type": "code",
   "execution_count": 31,
   "id": "abcca05b-7aeb-4344-a031-034b7f80ab11",
   "metadata": {},
   "outputs": [],
   "source": [
    "# dyna-q+ unmet states?"
   ]
  },
  {
   "cell_type": "markdown",
   "id": "2d66b250-b8d5-4da5-a8e8-b82ffc501c00",
   "metadata": {},
   "source": [
    "# Dyna-Q +"
   ]
  },
  {
   "cell_type": "code",
   "execution_count": 32,
   "id": "65a014fa-e45a-4412-a8d0-177694896d7a",
   "metadata": {},
   "outputs": [],
   "source": [
    "class Dyna_plus(Dyna_Q):\n",
    "    def __init__(self, kappa=5e-4, *args, **kwargs):\n",
    "        super().__init__(*args, **kwargs)\n",
    "        self.visits = np.zeros(self.q.shape)\n",
    "        self.kappa = kappa\n",
    "        \n",
    "    def update_q(self, state, action, reward, state_, done):\n",
    "        # one-step q learning as usual\n",
    "        q_next = np.max(self.q[state_]) if not done else 0.0\n",
    "        \n",
    "        # td_error with bonus reward\n",
    "        td_error = reward + self.y*q_next + self.kappa * np.sqrt(self.visits[(*state, action)]) - self.q[(*state, action)]\n",
    "        self.visits[(*state, action)] = 0\n",
    "        \n",
    "        self.q[(*state, action)] += self.lr * td_error\n",
    "        \n",
    "    def learn(self, *args):\n",
    "        self.update_model(*args)\n",
    "        self.update_q(*args)\n",
    "        self.visits += 1"
   ]
  },
  {
   "cell_type": "code",
   "execution_count": 33,
   "id": "04d82a00-6286-4041-9b6f-353521180812",
   "metadata": {},
   "outputs": [],
   "source": [
    "EPISODES = 1000\n",
    "MAX_STEPS = 200\n",
    "agents = [Dyna_plus(kappa=5e-4) for _ in range(5)]\n",
    "steps = []\n",
    "\n",
    "for i in range(EPISODES):\n",
    "    \n",
    "    [episode(env, agt, test=False, random=True) for agt in agents];\n",
    "    \n",
    "    if i%10 == 0:\n",
    "        steps.append([episode(env, agt, test=True, random=False) for agt in agents])"
   ]
  },
  {
   "cell_type": "code",
   "execution_count": 34,
   "id": "68dbfc1d-f80c-40f9-9f1b-3ac7a7f97049",
   "metadata": {},
   "outputs": [
    {
     "data": {
      "image/png": "[encoded data removed]",
      "text/plain": [
       "<Figure size 432x288 with 1 Axes>"
      ]
     },
     "metadata": {
      "needs_background": "light"
     },
     "output_type": "display_data"
    }
   ],
   "source": [
    "mean_steps = list(map(lambda x: sum(x)/len(x), steps))\n",
    "plt.scatter(range(len(mean_steps)), mean_steps);"
   ]
  },
  {
   "cell_type": "code",
   "execution_count": 35,
   "id": "274e59f8-af61-4f03-ad0f-cfbc7054189d",
   "metadata": {},
   "outputs": [],
   "source": [
    "# TODO: Implement proper example for comparison"
   ]
  },
  {
   "cell_type": "code",
   "execution_count": 36,
   "id": "166bd7cc-1807-41ab-94ad-7030402cdec0",
   "metadata": {},
   "outputs": [
    {
     "data": {
      "text/plain": [
       "array([['→', '→', '→', '→', '→', '↓', '→', '↓'],\n",
       "       ['→', '→', '↓', '→', '↓', '→', '↓', '↓'],\n",
       "       ['→', '↓', '↓', 'H', '↓', '→', '→', '↓'],\n",
       "       ['→', '→', '→', '→', '↓', 'H', '↓', '↓'],\n",
       "       ['↑', '↑', '↑', 'H', '→', '↓', '→', '↓'],\n",
       "       ['↓', 'H', 'H', '→', '→', '↓', 'H', '↓'],\n",
       "       ['↓', 'H', '→', '↑', 'H', '↓', 'H', '↓'],\n",
       "       ['→', '→', '↑', 'H', '→', '→', '→', 'G']], dtype='<U1')"
      ]
     },
     "execution_count": 36,
     "metadata": {},
     "output_type": "execute_result"
    }
   ],
   "source": [
    "arrows = np.array(['←','↓','→','↑'])\n",
    "np.array([arrows[np.argmax(agents[0].q, axis=2)[i,j]] \n",
    "          if (env.desc[i,j] == env.desc[0,0]) or (env.desc[i,j] == env.desc[0,1]) else env.desc[i,j]\n",
    "          for i in range(8) for j in range(8)\n",
    "          ]).reshape(8,8)"
   ]
  },
  {
   "cell_type": "markdown",
   "id": "4449c4fd-5069-482c-848e-cb96d5b76284",
   "metadata": {},
   "source": [
    "# Priortized sweeping"
   ]
  },
  {
   "cell_type": "code",
   "execution_count": 39,
   "id": "b9a13f5a-0ed1-4aeb-98d4-9e10f5e7021e",
   "metadata": {},
   "outputs": [],
   "source": [
    "from sortedcontainers import SortedList\n",
    "\n",
    "class Dyna_PS(Dyna_Q):\n",
    "    \n",
    "    def __init__(self, theta=1e-3, *args, **kwargs):\n",
    "        \n",
    "        super().__init__(*args, **kwargs)\n",
    "        self.theta = theta\n",
    "        \n",
    "        # initialize backward model as 2d list\n",
    "        self.back = [[[] for j in range(8)] for i in range(8)]\n",
    "        \n",
    "        self.p_queue = SortedList()  # list of (P, (s, a))\n",
    "        \n",
    "    def update_q(self, state, action, reward, state_, done):\n",
    "        q_next = np.max(self.q[state_]) if not done else 0.0\n",
    "        p = abs(reward + self.y*q_next - self.q[(*state, action)])\n",
    "        \n",
    "        # save into memory instead of update immediately\n",
    "        if p > self.theta:\n",
    "            self.p_queue.add((-p, (state, action)))\n",
    "            self.plan()\n",
    "    \n",
    "    def update_model(self, state, action, reward, state_, done):\n",
    "        # record environment dynamics to state-action pair\n",
    "        # both forward & backward\n",
    "        self.model[(*state, action)] = Feedback(reward, state_, done)\n",
    "        if (state, action) not in self.back[state_[0]][state_[1]]:\n",
    "            self.back[state_[0]][state_[1]].append((state, action)) \n",
    "    \n",
    "    def plan(self):\n",
    "        \n",
    "        i = 0\n",
    "        while len(self.p_queue) > 0 and i < 5:\n",
    "            \n",
    "            # update current state-action pair\n",
    "            _, (state, action) = self.p_queue[0]\n",
    "            reward, state_, done = self.model[(*state, action)]\n",
    "            \n",
    "            q_next = np.max(self.q[state_]) if not done else 0.0\n",
    "            td_error = reward + self.y*q_next - self.q[(*state, action)]\n",
    "            self.q[(*state, action)] += self.lr * td_error\n",
    "\n",
    "            self.p_queue.pop(0);\n",
    "            \n",
    "            # update preceding state-action\n",
    "            for prev_state, action in self.back[state[0]][state[1]]:\n",
    "                #print(prev_state, action)\n",
    "                reward, _, done = self.model[(*prev_state, action)]\n",
    "                #print(reward, _, done)\n",
    "                self.update_q(prev_state, action, reward, state, done)\n",
    "                \n",
    "            i += 1\n",
    "            \n",
    "        self.p_queue.clear()"
   ]
  },
  {
   "cell_type": "code",
   "execution_count": 40,
   "id": "8fa4aa1d-a5bc-4fe5-b112-8300fc801c0f",
   "metadata": {},
   "outputs": [],
   "source": [
    "EPISODES = 1000\n",
    "MAX_STEPS = 200\n",
    "agent = Dyna_PS(theta=0.1, lr=0.4, e=0.4)\n",
    "agent.q = np.zeros((8,8,4))\n",
    "steps = []\n",
    "\n",
    "for i in range(EPISODES):\n",
    "    \n",
    "    episode(env, agent, test=False, random=True)\n",
    "    \n",
    "    if i%10 == 0:\n",
    "        steps.append(episode(env, agent, test=True, random=False))"
   ]
  },
  {
   "cell_type": "code",
   "execution_count": 41,
   "id": "1e6ebeb9-f232-40d4-8891-b5d2b6047c50",
   "metadata": {},
   "outputs": [
    {
     "name": "stdout",
     "output_type": "stream",
     "text": [
      "[199, 199, 199, 199, 199, 199, 199, 199, 199, 199, 199, 199, 199, 199, 199, 199, 199, 199, 199, 199, 199, 199, 199, 199, 199, 199, 199, 199, 199, 199, 199, 199, 199, 199, 199, 199, 199, 199, 199, 199, 199, 199, 199, 199, 199, 199, 199, 199, 199, 199, 199, 199, 199, 199, 199, 199, 199, 199, 199, 199, 199, 199, 199, 199, 199, 199, 199, 199, 199, 199, 199, 199, 199, 199, 199, 199, 199, 199, 199, 199, 199, 199, 199, 199, 199, 199, 199, 199, 199, 199, 199, 199, 199, 199, 199, 199, 199, 199, 199, 199]\n"
     ]
    },
    {
     "data": {
      "image/png": "[encoded data removed]",
      "text/plain": [
       "<Figure size 432x288 with 1 Axes>"
      ]
     },
     "metadata": {
      "needs_background": "light"
     },
     "output_type": "display_data"
    }
   ],
   "source": [
    "print(steps)\n",
    "plt.scatter(range(len(steps)), steps);\n",
    "# mean_steps = list(map(lambda x: sum(x)/len(x), steps))\n",
    "# plt.scatter(range(len(mean_steps)), mean_steps);"
   ]
  },
  {
   "cell_type": "code",
   "execution_count": 45,
   "id": "6ad18378-7c6d-4d28-b393-b92b2f7cbe26",
   "metadata": {
    "scrolled": true,
    "tags": []
   },
   "outputs": [
    {
     "data": {
      "text/plain": [
       "array([[[feedback(reward=0.0, state_=(0, 0), done=False),\n",
       "         feedback(reward=0.0, state_=(1, 0), done=False),\n",
       "         feedback(reward=0.0, state_=(0, 1), done=False),\n",
       "         feedback(reward=0.0, state_=(0, 0), done=False)],\n",
       "        [feedback(reward=0.0, state_=(0, 0), done=False),\n",
       "         feedback(reward=0.0, state_=(1, 1), done=False),\n",
       "         feedback(reward=0.0, state_=(0, 2), done=False),\n",
       "         feedback(reward=0.0, state_=(0, 1), done=False)],\n",
       "        [feedback(reward=0.0, state_=(0, 1), done=False),\n",
       "         feedback(reward=0.0, state_=(1, 2), done=False),\n",
       "         feedback(reward=0.0, state_=(0, 3), done=False),\n",
       "         feedback(reward=0.0, state_=(0, 2), done=False)],\n",
       "        [feedback(reward=0.0, state_=(0, 2), done=False),\n",
       "         feedback(reward=0.0, state_=(1, 3), done=False),\n",
       "         feedback(reward=0.0, state_=(0, 4), done=False),\n",
       "         feedback(reward=0.0, state_=(0, 3), done=False)],\n",
       "        [feedback(reward=0.0, state_=(0, 3), done=False),\n",
       "         feedback(reward=0.0, state_=(1, 4), done=False),\n",
       "         feedback(reward=0.0, state_=(0, 5), done=False),\n",
       "         feedback(reward=0.0, state_=(0, 4), done=False)],\n",
       "        [feedback(reward=0.0, state_=(0, 4), done=False),\n",
       "         feedback(reward=0.0, state_=(1, 5), done=False),\n",
       "         feedback(reward=0.0, state_=(0, 6), done=False),\n",
       "         feedback(reward=0.0, state_=(0, 5), done=False)],\n",
       "        [feedback(reward=0.0, state_=(0, 5), done=False),\n",
       "         feedback(reward=0.0, state_=(1, 6), done=False),\n",
       "         feedback(reward=0.0, state_=(0, 7), done=False),\n",
       "         feedback(reward=0.0, state_=(0, 6), done=False)],\n",
       "        [feedback(reward=0.0, state_=(0, 6), done=False),\n",
       "         feedback(reward=0.0, state_=(1, 7), done=False), None,\n",
       "         feedback(reward=0.0, state_=(0, 7), done=False)]],\n",
       "\n",
       "       [[feedback(reward=0.0, state_=(1, 0), done=False),\n",
       "         feedback(reward=0.0, state_=(2, 0), done=False),\n",
       "         feedback(reward=0.0, state_=(1, 1), done=False),\n",
       "         feedback(reward=0.0, state_=(0, 0), done=False)],\n",
       "        [feedback(reward=0.0, state_=(1, 0), done=False),\n",
       "         feedback(reward=0.0, state_=(2, 1), done=False),\n",
       "         feedback(reward=0.0, state_=(1, 2), done=False),\n",
       "         feedback(reward=0.0, state_=(0, 1), done=False)],\n",
       "        [feedback(reward=0.0, state_=(1, 1), done=False),\n",
       "         feedback(reward=0.0, state_=(2, 2), done=False),\n",
       "         feedback(reward=0.0, state_=(1, 3), done=False),\n",
       "         feedback(reward=0.0, state_=(0, 2), done=False)],\n",
       "        [feedback(reward=0.0, state_=(1, 2), done=False),\n",
       "         feedback(reward=0.0, state_=(2, 3), done=True),\n",
       "         feedback(reward=0.0, state_=(1, 4), done=False),\n",
       "         feedback(reward=0.0, state_=(0, 3), done=False)],\n",
       "        [feedback(reward=0.0, state_=(1, 3), done=False),\n",
       "         feedback(reward=0.0, state_=(2, 4), done=False),\n",
       "         feedback(reward=0.0, state_=(1, 5), done=False),\n",
       "         feedback(reward=0.0, state_=(0, 4), done=False)],\n",
       "        [feedback(reward=0.0, state_=(1, 4), done=False),\n",
       "         feedback(reward=0.0, state_=(2, 5), done=False),\n",
       "         feedback(reward=0.0, state_=(1, 6), done=False),\n",
       "         feedback(reward=0.0, state_=(0, 5), done=False)],\n",
       "        [feedback(reward=0.0, state_=(1, 5), done=False),\n",
       "         feedback(reward=0.0, state_=(2, 6), done=False),\n",
       "         feedback(reward=0.0, state_=(1, 7), done=False),\n",
       "         feedback(reward=0.0, state_=(0, 6), done=False)],\n",
       "        [feedback(reward=0.0, state_=(1, 6), done=False),\n",
       "         feedback(reward=0.0, state_=(2, 7), done=False),\n",
       "         feedback(reward=0.0, state_=(1, 7), done=False),\n",
       "         feedback(reward=0.0, state_=(0, 7), done=False)]],\n",
       "\n",
       "       [[feedback(reward=0.0, state_=(2, 0), done=False),\n",
       "         feedback(reward=0.0, state_=(3, 0), done=False),\n",
       "         feedback(reward=0.0, state_=(2, 1), done=False),\n",
       "         feedback(reward=0.0, state_=(1, 0), done=False)],\n",
       "        [feedback(reward=0.0, state_=(2, 0), done=False),\n",
       "         feedback(reward=0.0, state_=(3, 1), done=False),\n",
       "         feedback(reward=0.0, state_=(2, 2), done=False),\n",
       "         feedback(reward=0.0, state_=(1, 1), done=False)],\n",
       "        [feedback(reward=0.0, state_=(2, 1), done=False),\n",
       "         feedback(reward=0.0, state_=(3, 2), done=False),\n",
       "         feedback(reward=0.0, state_=(2, 3), done=True),\n",
       "         feedback(reward=0.0, state_=(1, 2), done=False)],\n",
       "        [None, None, None, None],\n",
       "        [feedback(reward=0.0, state_=(2, 3), done=True),\n",
       "         feedback(reward=0.0, state_=(3, 4), done=False),\n",
       "         feedback(reward=0.0, state_=(2, 5), done=False),\n",
       "         feedback(reward=0.0, state_=(1, 4), done=False)],\n",
       "        [feedback(reward=0.0, state_=(2, 4), done=False),\n",
       "         feedback(reward=0.0, state_=(3, 5), done=True),\n",
       "         feedback(reward=0.0, state_=(2, 6), done=False),\n",
       "         feedback(reward=0.0, state_=(1, 5), done=False)],\n",
       "        [feedback(reward=0.0, state_=(2, 5), done=False),\n",
       "         feedback(reward=0.0, state_=(3, 6), done=False),\n",
       "         feedback(reward=0.0, state_=(2, 7), done=False),\n",
       "         feedback(reward=0.0, state_=(1, 6), done=False)],\n",
       "        [feedback(reward=0.0, state_=(2, 6), done=False),\n",
       "         feedback(reward=0.0, state_=(3, 7), done=False),\n",
       "         feedback(reward=0.0, state_=(2, 7), done=False),\n",
       "         feedback(reward=0.0, state_=(1, 7), done=False)]],\n",
       "\n",
       "       [[feedback(reward=0.0, state_=(3, 0), done=False),\n",
       "         feedback(reward=0.0, state_=(4, 0), done=False),\n",
       "         feedback(reward=0.0, state_=(3, 1), done=False),\n",
       "         feedback(reward=0.0, state_=(2, 0), done=False)],\n",
       "        [feedback(reward=0.0, state_=(3, 0), done=False),\n",
       "         feedback(reward=0.0, state_=(4, 1), done=False),\n",
       "         feedback(reward=0.0, state_=(3, 2), done=False),\n",
       "         feedback(reward=0.0, state_=(2, 1), done=False)],\n",
       "        [feedback(reward=0.0, state_=(3, 1), done=False),\n",
       "         feedback(reward=0.0, state_=(4, 2), done=False),\n",
       "         feedback(reward=0.0, state_=(3, 3), done=False),\n",
       "         feedback(reward=0.0, state_=(2, 2), done=False)],\n",
       "        [feedback(reward=0.0, state_=(3, 2), done=False),\n",
       "         feedback(reward=0.0, state_=(4, 3), done=True),\n",
       "         feedback(reward=0.0, state_=(3, 4), done=False),\n",
       "         feedback(reward=0.0, state_=(2, 3), done=True)],\n",
       "        [feedback(reward=0.0, state_=(3, 3), done=False),\n",
       "         feedback(reward=0.0, state_=(4, 4), done=False),\n",
       "         feedback(reward=0.0, state_=(3, 5), done=True),\n",
       "         feedback(reward=0.0, state_=(2, 4), done=False)],\n",
       "        [None, None, None, None],\n",
       "        [feedback(reward=0.0, state_=(3, 5), done=True),\n",
       "         feedback(reward=0.0, state_=(4, 6), done=False),\n",
       "         feedback(reward=0.0, state_=(3, 7), done=False),\n",
       "         feedback(reward=0.0, state_=(2, 6), done=False)],\n",
       "        [feedback(reward=0.0, state_=(3, 6), done=False),\n",
       "         feedback(reward=0.0, state_=(4, 7), done=False),\n",
       "         feedback(reward=0.0, state_=(3, 7), done=False),\n",
       "         feedback(reward=0.0, state_=(2, 7), done=False)]],\n",
       "\n",
       "       [[feedback(reward=0.0, state_=(4, 0), done=False),\n",
       "         feedback(reward=0.0, state_=(5, 0), done=False),\n",
       "         feedback(reward=0.0, state_=(4, 1), done=False),\n",
       "         feedback(reward=0.0, state_=(3, 0), done=False)],\n",
       "        [feedback(reward=0.0, state_=(4, 0), done=False),\n",
       "         feedback(reward=0.0, state_=(5, 1), done=True),\n",
       "         feedback(reward=0.0, state_=(4, 2), done=False),\n",
       "         feedback(reward=0.0, state_=(3, 1), done=False)],\n",
       "        [feedback(reward=0.0, state_=(4, 1), done=False),\n",
       "         feedback(reward=0.0, state_=(5, 2), done=True),\n",
       "         feedback(reward=0.0, state_=(4, 3), done=True),\n",
       "         feedback(reward=0.0, state_=(3, 2), done=False)],\n",
       "        [None, None, None, None],\n",
       "        [feedback(reward=0.0, state_=(4, 3), done=True),\n",
       "         feedback(reward=0.0, state_=(5, 4), done=False),\n",
       "         feedback(reward=0.0, state_=(4, 5), done=False),\n",
       "         feedback(reward=0.0, state_=(3, 4), done=False)],\n",
       "        [feedback(reward=0.0, state_=(4, 4), done=False),\n",
       "         feedback(reward=0.0, state_=(5, 5), done=False),\n",
       "         feedback(reward=0.0, state_=(4, 6), done=False),\n",
       "         feedback(reward=0.0, state_=(3, 5), done=True)],\n",
       "        [feedback(reward=0.0, state_=(4, 5), done=False),\n",
       "         feedback(reward=0.0, state_=(5, 6), done=True),\n",
       "         feedback(reward=0.0, state_=(4, 7), done=False),\n",
       "         feedback(reward=0.0, state_=(3, 6), done=False)],\n",
       "        [feedback(reward=0.0, state_=(4, 6), done=False),\n",
       "         feedback(reward=0.0, state_=(5, 7), done=False),\n",
       "         feedback(reward=0.0, state_=(4, 7), done=False),\n",
       "         feedback(reward=0.0, state_=(3, 7), done=False)]],\n",
       "\n",
       "       [[feedback(reward=0.0, state_=(5, 0), done=False),\n",
       "         feedback(reward=0.0, state_=(6, 0), done=False),\n",
       "         feedback(reward=0.0, state_=(5, 1), done=True),\n",
       "         feedback(reward=0.0, state_=(4, 0), done=False)],\n",
       "        [None, None, None, None],\n",
       "        [None, None, None, None],\n",
       "        [feedback(reward=0.0, state_=(5, 2), done=True),\n",
       "         feedback(reward=0.0, state_=(6, 3), done=False),\n",
       "         feedback(reward=0.0, state_=(5, 4), done=False),\n",
       "         feedback(reward=0.0, state_=(4, 3), done=True)],\n",
       "        [feedback(reward=0.0, state_=(5, 3), done=False),\n",
       "         feedback(reward=0.0, state_=(6, 4), done=True),\n",
       "         feedback(reward=0.0, state_=(5, 5), done=False),\n",
       "         feedback(reward=0.0, state_=(4, 4), done=False)],\n",
       "        [feedback(reward=0.0, state_=(5, 4), done=False),\n",
       "         feedback(reward=0.0, state_=(6, 5), done=False),\n",
       "         feedback(reward=0.0, state_=(5, 6), done=True),\n",
       "         feedback(reward=0.0, state_=(4, 5), done=False)],\n",
       "        [None, None, None, None],\n",
       "        [feedback(reward=0.0, state_=(5, 6), done=True),\n",
       "         feedback(reward=0.0, state_=(6, 7), done=False),\n",
       "         feedback(reward=0.0, state_=(5, 7), done=False),\n",
       "         feedback(reward=0.0, state_=(4, 7), done=False)]],\n",
       "\n",
       "       [[feedback(reward=0.0, state_=(6, 0), done=False),\n",
       "         feedback(reward=0.0, state_=(7, 0), done=False),\n",
       "         feedback(reward=0.0, state_=(6, 1), done=True),\n",
       "         feedback(reward=0.0, state_=(5, 0), done=False)],\n",
       "        [None, None, None, None],\n",
       "        [feedback(reward=0.0, state_=(6, 1), done=True),\n",
       "         feedback(reward=0.0, state_=(7, 2), done=False),\n",
       "         feedback(reward=0.0, state_=(6, 3), done=False),\n",
       "         feedback(reward=0.0, state_=(5, 2), done=True)],\n",
       "        [feedback(reward=0.0, state_=(6, 2), done=False),\n",
       "         feedback(reward=0.0, state_=(7, 3), done=True),\n",
       "         feedback(reward=0.0, state_=(6, 4), done=True),\n",
       "         feedback(reward=0.0, state_=(5, 3), done=False)],\n",
       "        [None, None, None, None],\n",
       "        [feedback(reward=0.0, state_=(6, 4), done=True),\n",
       "         feedback(reward=0.0, state_=(7, 5), done=False),\n",
       "         feedback(reward=0.0, state_=(6, 6), done=True),\n",
       "         feedback(reward=0.0, state_=(5, 5), done=False)],\n",
       "        [None, None, None, None],\n",
       "        [feedback(reward=0.0, state_=(6, 6), done=True),\n",
       "         feedback(reward=1.0, state_=(7, 7), done=True),\n",
       "         feedback(reward=0.0, state_=(6, 7), done=False),\n",
       "         feedback(reward=0.0, state_=(5, 7), done=False)]],\n",
       "\n",
       "       [[feedback(reward=0.0, state_=(7, 0), done=False),\n",
       "         feedback(reward=0.0, state_=(7, 0), done=False),\n",
       "         feedback(reward=0.0, state_=(7, 1), done=False),\n",
       "         feedback(reward=0.0, state_=(6, 0), done=False)],\n",
       "        [feedback(reward=0.0, state_=(7, 0), done=False),\n",
       "         feedback(reward=0.0, state_=(7, 1), done=False),\n",
       "         feedback(reward=0.0, state_=(7, 2), done=False),\n",
       "         feedback(reward=0.0, state_=(6, 1), done=True)],\n",
       "        [feedback(reward=0.0, state_=(7, 1), done=False),\n",
       "         feedback(reward=0.0, state_=(7, 2), done=False),\n",
       "         feedback(reward=0.0, state_=(7, 3), done=True),\n",
       "         feedback(reward=0.0, state_=(6, 2), done=False)],\n",
       "        [None, None, None, None],\n",
       "        [feedback(reward=0.0, state_=(7, 3), done=True),\n",
       "         feedback(reward=0.0, state_=(7, 4), done=False),\n",
       "         feedback(reward=0.0, state_=(7, 5), done=False),\n",
       "         feedback(reward=0.0, state_=(6, 4), done=True)],\n",
       "        [feedback(reward=0.0, state_=(7, 4), done=False),\n",
       "         feedback(reward=0.0, state_=(7, 5), done=False),\n",
       "         feedback(reward=0.0, state_=(7, 6), done=False),\n",
       "         feedback(reward=0.0, state_=(6, 5), done=False)],\n",
       "        [feedback(reward=0.0, state_=(7, 5), done=False),\n",
       "         feedback(reward=0.0, state_=(7, 6), done=False),\n",
       "         feedback(reward=1.0, state_=(7, 7), done=True),\n",
       "         feedback(reward=0.0, state_=(6, 6), done=True)],\n",
       "        [None, None, None, None]]], dtype=object)"
      ]
     },
     "execution_count": 45,
     "metadata": {},
     "output_type": "execute_result"
    }
   ],
   "source": [
    "agent.model"
   ]
  },
  {
   "cell_type": "code",
   "execution_count": 46,
   "id": "e9acff4e-f6e5-4f25-b617-d104d2fe7c98",
   "metadata": {
    "scrolled": true,
    "tags": []
   },
   "outputs": [
    {
     "data": {
      "text/plain": [
       "[[[((1, 0), 3), ((0, 0), 0), ((0, 1), 0), ((0, 0), 3)],\n",
       "  [((0, 0), 2), ((0, 1), 3), ((1, 1), 3), ((0, 2), 0)],\n",
       "  [((0, 1), 2), ((0, 3), 0), ((0, 2), 3), ((1, 2), 3)],\n",
       "  [((0, 4), 0), ((0, 2), 2), ((1, 3), 3), ((0, 3), 3)],\n",
       "  [((0, 5), 0), ((0, 4), 3), ((1, 4), 3), ((0, 3), 2)],\n",
       "  [((0, 6), 0), ((0, 5), 3), ((0, 4), 2), ((1, 5), 3)],\n",
       "  [((1, 6), 3), ((0, 7), 0), ((0, 5), 2), ((0, 6), 3)],\n",
       "  [((0, 6), 2), ((0, 7), 3), ((1, 7), 3)]],\n",
       " [[((2, 0), 3), ((1, 0), 0), ((1, 1), 0), ((0, 0), 1)],\n",
       "  [((1, 0), 2), ((0, 1), 1), ((1, 2), 0), ((2, 1), 3)],\n",
       "  [((0, 2), 1), ((1, 1), 2), ((1, 3), 0), ((2, 2), 3)],\n",
       "  [((1, 2), 2), ((1, 4), 0), ((0, 3), 1)],\n",
       "  [((1, 5), 0), ((2, 4), 3), ((1, 3), 2), ((0, 4), 1)],\n",
       "  [((2, 5), 3), ((1, 6), 0), ((1, 4), 2), ((0, 5), 1)],\n",
       "  [((1, 7), 0), ((1, 5), 2), ((0, 6), 1), ((2, 6), 3)],\n",
       "  [((1, 6), 2), ((2, 7), 3), ((1, 7), 2), ((0, 7), 1)]],\n",
       " [[((2, 1), 0), ((2, 0), 0), ((3, 0), 3), ((1, 0), 1)],\n",
       "  [((3, 1), 3), ((2, 0), 2), ((1, 1), 1), ((2, 2), 0)],\n",
       "  [((2, 1), 2), ((1, 2), 1), ((3, 2), 3)],\n",
       "  [((2, 4), 0), ((1, 3), 1), ((3, 3), 3), ((2, 2), 2)],\n",
       "  [((2, 5), 0), ((1, 4), 1), ((3, 4), 3)],\n",
       "  [((2, 6), 0), ((2, 4), 2), ((1, 5), 1)],\n",
       "  [((2, 7), 0), ((2, 5), 2), ((3, 6), 3), ((1, 6), 1)],\n",
       "  [((2, 6), 2), ((2, 7), 2), ((1, 7), 1), ((3, 7), 3)]],\n",
       " [[((2, 0), 1), ((3, 0), 0), ((3, 1), 0), ((4, 0), 3)],\n",
       "  [((2, 1), 1), ((3, 0), 2), ((4, 1), 3), ((3, 2), 0)],\n",
       "  [((3, 3), 0), ((3, 1), 2), ((2, 2), 1), ((4, 2), 3)],\n",
       "  [((3, 2), 2), ((3, 4), 0)],\n",
       "  [((2, 4), 1), ((3, 3), 2), ((4, 4), 3)],\n",
       "  [((3, 6), 0), ((2, 5), 1), ((4, 5), 3), ((3, 4), 2)],\n",
       "  [((3, 7), 0), ((4, 6), 3), ((2, 6), 1)],\n",
       "  [((3, 6), 2), ((3, 7), 2), ((4, 7), 3), ((2, 7), 1)]],\n",
       " [[((3, 0), 1), ((4, 0), 0), ((5, 0), 3), ((4, 1), 0)],\n",
       "  [((4, 0), 2), ((3, 1), 1), ((4, 2), 0)],\n",
       "  [((4, 1), 2), ((3, 2), 1)],\n",
       "  [((3, 3), 1), ((4, 2), 2), ((4, 4), 0), ((5, 3), 3)],\n",
       "  [((4, 5), 0), ((3, 4), 1), ((5, 4), 3)],\n",
       "  [((4, 6), 0), ((4, 4), 2), ((5, 5), 3)],\n",
       "  [((4, 7), 0), ((3, 6), 1), ((4, 5), 2)],\n",
       "  [((4, 6), 2), ((4, 7), 2), ((5, 7), 3), ((3, 7), 1)]],\n",
       " [[((4, 0), 1), ((5, 0), 0), ((6, 0), 3)],\n",
       "  [((5, 0), 2), ((4, 1), 1)],\n",
       "  [((5, 3), 0), ((4, 2), 1), ((6, 2), 3)],\n",
       "  [((5, 4), 0), ((6, 3), 3)],\n",
       "  [((5, 5), 0), ((4, 4), 1), ((5, 3), 2)],\n",
       "  [((4, 5), 1), ((5, 4), 2), ((6, 5), 3)],\n",
       "  [((5, 7), 0), ((5, 5), 2), ((4, 6), 1)],\n",
       "  [((4, 7), 1), ((6, 7), 3), ((5, 7), 2)]],\n",
       " [[((5, 0), 1), ((6, 0), 0), ((7, 0), 3)],\n",
       "  [((6, 0), 2), ((6, 2), 0), ((7, 1), 3)],\n",
       "  [((6, 3), 0), ((7, 2), 3)],\n",
       "  [((5, 3), 1), ((6, 2), 2)],\n",
       "  [((5, 4), 1), ((6, 5), 0), ((7, 4), 3), ((6, 3), 2)],\n",
       "  [((7, 5), 3), ((5, 5), 1)],\n",
       "  [((6, 5), 2), ((6, 7), 0), ((7, 6), 3)],\n",
       "  [((5, 7), 1), ((6, 7), 2)]],\n",
       " [[((7, 1), 0), ((6, 0), 1), ((7, 0), 0), ((7, 0), 1)],\n",
       "  [((7, 0), 2), ((7, 2), 0), ((7, 1), 1)],\n",
       "  [((7, 1), 2), ((7, 2), 1), ((6, 2), 1)],\n",
       "  [((7, 4), 0), ((7, 2), 2), ((6, 3), 1)],\n",
       "  [((7, 4), 1), ((7, 5), 0)],\n",
       "  [((7, 6), 0), ((7, 4), 2), ((6, 5), 1), ((7, 5), 1)],\n",
       "  [((7, 5), 2), ((7, 6), 1)],\n",
       "  [((6, 7), 1), ((7, 6), 2)]]]"
      ]
     },
     "execution_count": 46,
     "metadata": {},
     "output_type": "execute_result"
    }
   ],
   "source": [
    "agent.back"
   ]
  },
  {
   "cell_type": "code",
   "execution_count": 44,
   "id": "cc8a59d8-91e2-4ae2-8309-1c854526268e",
   "metadata": {
    "scrolled": true,
    "tags": []
   },
   "outputs": [
    {
     "data": {
      "text/plain": [
       "array([[[ 2.612e-01,  2.808e-01,  2.822e-01,  1.224e-02],\n",
       "        [ 2.609e-01,  3.079e-01,  3.099e-01,  2.863e-01],\n",
       "        [ 2.817e-01,  3.359e-01,  3.391e-01,  3.111e-01],\n",
       "        [ 3.149e-01,  3.720e-01,  3.734e-01,  3.408e-01],\n",
       "        [ 3.423e-01,  4.110e-01,  4.132e-01,  3.728e-01],\n",
       "        [ 3.751e-01,  4.482e-01,  4.475e-01,  4.123e-01],\n",
       "        [ 4.063e-01,  4.958e-01,  4.963e-01,  4.522e-01],\n",
       "        [ 4.508e-01,  5.439e-01,  4.976e-01,  4.975e-01]],\n",
       "\n",
       "       [[ 2.834e-01,  3.097e-01,  3.097e-01,  2.606e-01],\n",
       "        [ 2.838e-01,  3.390e-01,  3.397e-01,  2.846e-01],\n",
       "        [ 3.104e-01,  3.695e-01,  3.690e-01,  3.158e-01],\n",
       "        [ 3.445e-01,  2.963e-03,  4.071e-01,  3.401e-01],\n",
       "        [ 3.720e-01,  4.504e-01,  4.489e-01,  3.757e-01],\n",
       "        [ 4.060e-01,  4.961e-01,  4.964e-01,  4.138e-01],\n",
       "        [ 4.499e-01,  5.472e-01,  5.454e-01,  4.513e-01],\n",
       "        [ 4.983e-01,  6.009e-01,  5.438e-01,  4.953e-01]],\n",
       "\n",
       "       [[ 3.134e-01,  3.356e-01,  3.364e-01,  2.823e-01],\n",
       "        [ 3.146e-01,  3.711e-01,  3.680e-01,  3.120e-01],\n",
       "        [ 3.379e-01,  4.048e-01,  8.104e-03,  3.397e-01],\n",
       "        [-6.621e-02, -7.160e-01,  8.817e-01, -2.499e+00],\n",
       "        [ 7.960e-03,  4.945e-01,  4.929e-01,  4.084e-01],\n",
       "        [ 4.504e-01,  4.621e-03,  5.434e-01,  4.520e-01],\n",
       "        [ 4.958e-01,  6.021e-01,  6.035e-01,  4.959e-01],\n",
       "        [ 5.477e-01,  6.632e-01,  6.070e-01,  5.468e-01]],\n",
       "\n",
       "       [[ 3.366e-01,  3.099e-01,  3.691e-01,  3.105e-01],\n",
       "        [ 3.389e-01,  3.377e-01,  4.023e-01,  3.388e-01],\n",
       "        [ 3.700e-01,  3.698e-01,  4.434e-01,  3.744e-01],\n",
       "        [ 4.112e-01,  5.106e-03,  4.918e-01,  5.035e-03],\n",
       "        [ 4.459e-01,  5.433e-01,  6.988e-03,  4.497e-01],\n",
       "        [ 8.571e-01,  8.758e-01,  1.801e-01, -2.026e-02],\n",
       "        [ 5.483e-03,  6.668e-01,  6.649e-01,  5.452e-01],\n",
       "        [ 6.021e-01,  7.351e-01,  6.681e-01,  6.025e-01]],\n",
       "\n",
       "       [[ 3.089e-01,  2.842e-01, -4.084e-01,  3.395e-01],\n",
       "        [ 3.114e-01,  5.890e-03,  3.687e-01,  3.713e-01],\n",
       "        [-9.553e-02,  5.623e-03,  2.928e-03,  4.070e-01],\n",
       "        [ 4.295e-01,  8.702e-01,  1.533e+00, -7.927e-01],\n",
       "        [ 5.167e-03,  6.002e-01,  6.010e-01,  4.951e-01],\n",
       "        [ 5.509e-01,  6.665e-01,  6.647e-01,  5.855e-03],\n",
       "        [ 6.049e-01,  6.101e-03,  7.357e-01,  6.064e-01],\n",
       "        [ 6.658e-01,  8.148e-01,  7.375e-01,  6.642e-01]],\n",
       "\n",
       "       [[ 2.845e-01,  3.126e-01,  8.861e-03,  3.102e-01],\n",
       "        [ 1.143e+00, -7.492e-01, -1.628e-01, -6.493e-01],\n",
       "        [ 9.082e-01, -9.139e-01,  6.035e-01,  1.024e+00],\n",
       "        [ 7.282e-03,  4.978e-01,  6.030e-01,  5.086e-03],\n",
       "        [ 5.496e-01,  3.564e-03,  6.642e-01,  5.462e-01],\n",
       "        [ 6.033e-01,  7.356e-01,  2.610e-03,  6.019e-01],\n",
       "        [-1.353e+00,  7.106e-01, -7.475e-02, -1.420e+00],\n",
       "        [ 3.682e-03,  9.028e-01,  8.168e-01,  7.361e-01]],\n",
       "\n",
       "       [[ 3.089e-01,  3.408e-01,  7.558e-03,  2.807e-01],\n",
       "        [ 4.440e-01,  3.114e-01, -4.491e-01, -5.921e-01],\n",
       "        [ 3.634e-03,  4.144e-01,  4.921e-01,  5.358e-03],\n",
       "        [ 4.467e-01,  6.000e-03,  4.990e-03,  5.456e-01],\n",
       "        [ 4.507e-02,  1.335e+00,  1.334e+00,  9.784e-01],\n",
       "        [ 5.815e-03,  8.160e-01,  1.881e-03,  6.690e-01],\n",
       "        [ 6.927e-02, -3.453e-01,  1.187e+00, -1.761e+00],\n",
       "        [ 2.787e-03,  1.001e+00,  9.069e-01,  8.199e-01]],\n",
       "\n",
       "       [[ 3.410e-01,  3.400e-01,  3.717e-01,  3.110e-01],\n",
       "        [ 3.379e-01,  3.725e-01,  4.060e-01,  3.562e-03],\n",
       "        [ 3.715e-01,  4.096e-01,  5.541e-03,  4.447e-01],\n",
       "        [ 1.167e-01,  3.966e-01,  2.306e-01,  2.221e-01],\n",
       "        [ 5.972e-03,  7.418e-01,  8.191e-01,  5.761e-03],\n",
       "        [ 7.442e-01,  8.192e-01,  9.051e-01,  7.370e-01],\n",
       "        [ 8.223e-01,  9.067e-01,  1.002e+00,  6.663e-03],\n",
       "        [ 5.726e-01,  1.399e+00, -1.857e-01, -1.405e-01]]])"
      ]
     },
     "execution_count": 44,
     "metadata": {},
     "output_type": "execute_result"
    }
   ],
   "source": [
    "agents[0].q"
   ]
  },
  {
   "cell_type": "code",
   "execution_count": 43,
   "id": "2fb3c9c1-f631-426c-a9f6-c80cfc3d16f6",
   "metadata": {},
   "outputs": [
    {
     "data": {
      "text/plain": [
       "array([['←', '←', '←', '←', '←', '←', '↓', '↓'],\n",
       "       ['←', '←', '←', '←', '←', '↓', '↓', '↓'],\n",
       "       ['←', '←', '←', 'H', '→', '→', '↓', '↓'],\n",
       "       ['←', '←', '←', '→', '↓', 'H', '→', '↓'],\n",
       "       ['←', '←', '←', 'H', '↓', '↓', '→', '↓'],\n",
       "       ['←', 'H', 'H', '→', '→', '↓', 'H', '↓'],\n",
       "       ['←', 'H', '→', '↑', 'H', '↓', 'H', '↓'],\n",
       "       ['←', '←', '←', 'H', '→', '→', '→', 'G']], dtype='<U1')"
      ]
     },
     "execution_count": 43,
     "metadata": {},
     "output_type": "execute_result"
    }
   ],
   "source": [
    "arrows = np.array(['←','↓','→','↑'])\n",
    "np.array([arrows[np.argmax(agent.q, axis=2)[i,j]] \n",
    "          if (env.desc[i,j] == env.desc[0,0]) or (env.desc[i,j] == env.desc[0,1]) else env.desc[i,j]\n",
    "          for i in range(8) for j in range(8)\n",
    "          ]).reshape(8,8)"
   ]
  },
  {
   "cell_type": "code",
   "execution_count": null,
   "id": "bf0d90b0-fbdd-471f-be50-80aa418b96e2",
   "metadata": {},
   "outputs": [],
   "source": []
  }
 ],
 "metadata": {
  "kernelspec": {
   "display_name": "Python 3 (ipykernel)",
   "language": "python",
   "name": "python3"
  },
  "language_info": {
   "codemirror_mode": {
    "name": "ipython",
    "version": 3
   },
   "file_extension": ".py",
   "mimetype": "text/x-python",
   "name": "python",
   "nbconvert_exporter": "python",
   "pygments_lexer": "ipython3",
   "version": "3.8.10"
  }
 },
 "nbformat": 4,
 "nbformat_minor": 5
}
