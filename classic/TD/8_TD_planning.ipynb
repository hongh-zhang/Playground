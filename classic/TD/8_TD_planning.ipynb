{
 "cells": [
  {
   "cell_type": "code",
   "execution_count": 1,
   "id": "518af81e-552a-4110-92bd-76e6a41c96f2",
   "metadata": {},
   "outputs": [
    {
     "name": "stdout",
     "output_type": "stream",
     "text": [
      "[[b'S' b'F' b'F' b'F' b'F' b'F' b'F' b'F']\n",
      " [b'F' b'F' b'F' b'F' b'F' b'F' b'F' b'F']\n",
      " [b'F' b'F' b'F' b'H' b'F' b'F' b'F' b'F']\n",
      " [b'F' b'F' b'F' b'F' b'F' b'H' b'F' b'F']\n",
      " [b'F' b'F' b'F' b'H' b'F' b'F' b'F' b'F']\n",
      " [b'F' b'H' b'H' b'F' b'F' b'F' b'H' b'F']\n",
      " [b'F' b'H' b'F' b'F' b'H' b'F' b'H' b'F']\n",
      " [b'F' b'F' b'F' b'H' b'F' b'F' b'F' b'G']]\n"
     ]
    }
   ],
   "source": [
    "import gym\n",
    "import numpy as np\n",
    "import matplotlib.pyplot as plt\n",
    "\n",
    "np.set_printoptions(precision=3)\n",
    "\n",
    "SIZE = 8  # map size\n",
    "\n",
    "env = gym.make('FrozenLake8x8-v1', is_slippery=False)\n",
    "print(env.desc)\n",
    "\n",
    "def int2loc(x):\n",
    "    \"\"\"\n",
    "    Convert state number into 2d matrix index\n",
    "    e.g. 3 -> (0, 4),  4 -> (1, 0)\n",
    "    \"\"\"\n",
    "    return (x // SIZE, x % SIZE)\n",
    "\n",
    "assert int2loc(8) == (1,0)"
   ]
  },
  {
   "cell_type": "code",
   "execution_count": 2,
   "id": "8ce48eeb-d0d3-400a-bcd6-1ef67f45155d",
   "metadata": {},
   "outputs": [],
   "source": [
    "valid_start = [s for s in range(64) \n",
    "               if env.desc[int2loc(s)] not in \n",
    "               (env.desc[int2loc(63)], env.desc[int2loc(59)])]\n",
    "\n",
    "def random_start(env):\n",
    "    env.reset()\n",
    "    env.env.s = np.random.choice(valid_start)\n",
    "    return env.env.s"
   ]
  },
  {
   "cell_type": "markdown",
   "id": "e8665eb0-7003-4310-a255-40a7e5a138ce",
   "metadata": {},
   "source": [
    "# Dyna-Q"
   ]
  },
  {
   "cell_type": "code",
   "execution_count": 28,
   "id": "e47ce809-49e2-4f0b-990f-70e6735543cd",
   "metadata": {},
   "outputs": [],
   "source": [
    "from collections import namedtuple\n",
    "Feedback = namedtuple('feedback', ('reward', 'state_', 'done'))\n",
    "\n",
    "\n",
    "\n",
    "class Dyna_Q():\n",
    "    \n",
    "    def __init__(self, n=10, e=0.2, y=0.99, lr=0.6, shape=(8,8,4), choice=(0,1,2,3)):\n",
    "        \n",
    "        self.e = e  # epsilon\n",
    "        self.n = n  # steps of planning\n",
    "        self.y = y  # gamma\n",
    "        self.lr = lr  # learning rate\n",
    "        self.choice = choice  # action space\n",
    "        \n",
    "        self.q = np.random.randn(*shape)               # q-values\n",
    "        self.model = np.empty(shape, dtype=Feedback)   # array of Feedback tuples, sample model of the environment\n",
    "        self.visited = np.zeros(shape)                 # boolean array : whether a state-action pair is seen\n",
    "        \n",
    "        self.test_mode = False\n",
    "    \n",
    "    def action(self, state):\n",
    "        # epsilon-greedy policy as usual\n",
    "        if not self.test_mode and np.random.rand() <= self.e:\n",
    "            action = np.random.choice(self.choice)\n",
    "        else:\n",
    "            action = np.argmax(self.q[state])\n",
    "        return action\n",
    "    \n",
    "    def update_q(self, state, action, reward, state_, done):\n",
    "        # one-step q learning as usual\n",
    "        q_next = np.max(self.q[state_]) if not done else 0.0\n",
    "        td_error = reward + self.y*q_next - self.q[(*state, action)]\n",
    "        self.q[(*state, action)] += self.lr * td_error\n",
    "    \n",
    "    def update_model(self, state, action, reward, state_, done):\n",
    "        # record environment feedback to state-action pair\n",
    "        self.model[(*state, action)] = Feedback(reward, state_, done)\n",
    "        self.visited[(*state, action)] = True\n",
    "    \n",
    "    def learn(self, *args):\n",
    "        self.update_q(*args)\n",
    "        self.update_model(*args)\n",
    "    \n",
    "    def plan(self):\n",
    "        \n",
    "        i = j = 0\n",
    "        while i < self.n and j < 1000:\n",
    "            \n",
    "            # generate random non-terminal state\n",
    "            state = np.random.randint(0, 62)\n",
    "            \n",
    "            # exclude terminal_state & previously unseen states\n",
    "            if state in valid_start and np.any(self.model[int2loc(state)]):\n",
    "                \n",
    "                state = int2loc(state)\n",
    "                \n",
    "                # sample random previously taken action\n",
    "                action = np.random.choice(self.visited[state].nonzero()[0])\n",
    "\n",
    "                # update q\n",
    "                self.update_q(state, action, *(self.model[(*state, action)]))\n",
    "                \n",
    "                i += 1\n",
    "            j += 1"
   ]
  },
  {
   "cell_type": "code",
   "execution_count": 41,
   "id": "1561cac8-1fa1-4933-8c2d-2a65dbdc34ba",
   "metadata": {},
   "outputs": [],
   "source": [
    "def episode(env, agent, test=False, random=False):\n",
    "    \n",
    "    agent.test_mode = test\n",
    "    \n",
    "    # initialize environment\n",
    "    state = env.reset() if not random else random_start(env)\n",
    "    state = int2loc(state)\n",
    "    \n",
    "    for step in range(MAX_STEPS):\n",
    "        \n",
    "        # act\n",
    "        action = agent.action(state)\n",
    "        state_, reward, done, _ = env.step(action)\n",
    "        state_ = int2loc(state_)\n",
    "        \n",
    "        # observe\n",
    "        agent.learn(state, action, reward, state_, done)\n",
    "\n",
    "        if done:\n",
    "            agent.plan()\n",
    "            return step\n",
    "\n",
    "        state = state_"
   ]
  },
  {
   "cell_type": "code",
   "execution_count": 48,
   "id": "5b7cdfd2-3cd3-4bf4-b11c-c3554a890b83",
   "metadata": {},
   "outputs": [],
   "source": [
    "EPISODES = 1000\n",
    "MAX_STEPS = 200\n",
    "agents = [Dyna_Q() for _ in range(5)]\n",
    "steps = []\n",
    "\n",
    "for i in range(EPISODES):\n",
    "    \n",
    "    [episode(env, agt, test=False, random=True) for agt in agents];\n",
    "    \n",
    "    if i%10 == 0:\n",
    "        steps.append([episode(env, agt, test=True, random=False) for agt in agents])"
   ]
  },
  {
   "cell_type": "code",
   "execution_count": 49,
   "id": "f2e32250-c2ec-4e25-b062-e710afc37540",
   "metadata": {},
   "outputs": [
    {
     "data": {
      "image/png": "[encoded data removed]",
      "text/plain": [
       "<Figure size 432x288 with 1 Axes>"
      ]
     },
     "metadata": {
      "needs_background": "light"
     },
     "output_type": "display_data"
    }
   ],
   "source": [
    "mean_steps = list(map(lambda x: sum(x)/len(x), steps))\n",
    "plt.scatter(range(len(mean_steps)), mean_steps);"
   ]
  },
  {
   "cell_type": "code",
   "execution_count": 50,
   "id": "15c8395b-b9b6-43dc-a434-33b4a32f297d",
   "metadata": {},
   "outputs": [
    {
     "data": {
      "text/plain": [
       "array([['↓', '↓', '↓', '↓', '↓', '↓', '↓', '↓'],\n",
       "       ['↓', '↓', '↓', '→', '↓', '↓', '→', '↓'],\n",
       "       ['↓', '↓', '↓', 'H', '↓', '→', '↓', '↓'],\n",
       "       ['→', '→', '→', '→', '↓', 'H', '↓', '↓'],\n",
       "       ['→', '→', '↑', 'H', '→', '→', '→', '↓'],\n",
       "       ['↑', 'H', 'H', '→', '→', '↓', 'H', '↓'],\n",
       "       ['↓', 'H', '→', '↑', 'H', '↓', 'H', '↓'],\n",
       "       ['→', '→', '↑', 'H', '→', '→', '→', 'G']], dtype='<U1')"
      ]
     },
     "execution_count": 50,
     "metadata": {},
     "output_type": "execute_result"
    }
   ],
   "source": [
    "arrows = np.array(['←','↓','→','↑'])\n",
    "np.array([arrows[np.argmax(agents[0].q, axis=2)[i,j]] \n",
    "          if (env.desc[i,j] == env.desc[0,0]) or (env.desc[i,j] == env.desc[0,1]) else env.desc[i,j]\n",
    "          for i in range(8) for j in range(8)\n",
    "          ]).reshape(8,8)"
   ]
  },
  {
   "cell_type": "code",
   "execution_count": null,
   "id": "abcca05b-7aeb-4344-a031-034b7f80ab11",
   "metadata": {},
   "outputs": [],
   "source": [
    "# dyna-q+ unmet states?"
   ]
  },
  {
   "cell_type": "code",
   "execution_count": null,
   "id": "cea44044-88cc-4647-8ed8-2f9a150a5218",
   "metadata": {},
   "outputs": [],
   "source": []
  }
 ],
 "metadata": {
  "kernelspec": {
   "display_name": "Python 3 (ipykernel)",
   "language": "python",
   "name": "python3"
  },
  "language_info": {
   "codemirror_mode": {
    "name": "ipython",
    "version": 3
   },
   "file_extension": ".py",
   "mimetype": "text/x-python",
   "name": "python",
   "nbconvert_exporter": "python",
   "pygments_lexer": "ipython3",
   "version": "3.8.10"
  }
 },
 "nbformat": 4,
 "nbformat_minor": 5
}
