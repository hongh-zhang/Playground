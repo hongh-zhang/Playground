{
 "cells": [
  {
   "cell_type": "code",
   "execution_count": 1,
   "id": "ef39f537-d878-4883-802c-14497997c974",
   "metadata": {},
   "outputs": [],
   "source": [
    "import gym\n",
    "import numpy as np\n",
    "import matplotlib.pyplot as plt\n",
    "\n",
    "np.set_printoptions(precision=3)"
   ]
  },
  {
   "cell_type": "code",
   "execution_count": 2,
   "id": "7cb7e331-72ba-4067-ab17-1f51acc6e55e",
   "metadata": {},
   "outputs": [
    {
     "name": "stdout",
     "output_type": "stream",
     "text": [
      "[[b'S' b'F' b'F' b'F']\n",
      " [b'F' b'H' b'F' b'H']\n",
      " [b'F' b'F' b'F' b'H']\n",
      " [b'H' b'F' b'F' b'G']]\n"
     ]
    }
   ],
   "source": [
    "SIZE = 4  # map size\n",
    "\n",
    "env = gym.make('FrozenLake-v1', is_slippery=False)\n",
    "print(env.desc)\n",
    "\n",
    "def int2loc(x):\n",
    "    \"\"\"\n",
    "    Convert state number into 2d matrix index\n",
    "    e.g. 3 -> (0, 4),  4 -> (1, 0)\n",
    "    \"\"\"\n",
    "    return (x // SIZE, x % SIZE)\n",
    "\n",
    "assert int2loc(8) == (2,0)"
   ]
  },
  {
   "cell_type": "markdown",
   "id": "2415a745-9caa-4405-a063-6047aed8d318",
   "metadata": {},
   "source": [
    "# SARSA"
   ]
  },
  {
   "cell_type": "code",
   "execution_count": 3,
   "id": "0721f541-6d8e-4591-b40f-0d55addf2fd0",
   "metadata": {},
   "outputs": [],
   "source": [
    "class SARSA():\n",
    "    \n",
    "    def __init__(self, choice=[0,1,2,3], shape=(SIZE, SIZE, 4), e=0.8, y=0.9, lr=1e-1,):\n",
    "        \n",
    "        self.e  = e  # epsilon\n",
    "        self.y  = y  # gamma\n",
    "        self.lr = lr  # learning rate\n",
    "        self.q = np.random.randn(*shape)  # q value array\n",
    "        self.choice = choice  # action space\n",
    "        \n",
    "        self.test_mode = False\n",
    "    \n",
    "    def action(self, state):\n",
    "        \n",
    "        # exploration\n",
    "        if not self.test_mode and np.random.rand() <= self.e:\n",
    "            action = np.random.choice(self.choice)\n",
    "            \n",
    "        # greedy policy\n",
    "        else:\n",
    "            action = np.argmax(self.q[state])\n",
    "        return action\n",
    "    \n",
    "    def learn(self, state, action, state_, action_, reward, done):\n",
    "        \n",
    "        # (pseudocode on p130)\n",
    "        q_next = self.q[(*state_, action_)] if not done else 0.0\n",
    "        td_error = reward + self.y*q_next - self.q[(*state, action)]\n",
    "        self.q[(*state, action)] += self.lr * td_error"
   ]
  },
  {
   "cell_type": "code",
   "execution_count": 4,
   "id": "5ceb9b5e-e96c-4308-81cb-ae0dc1904a43",
   "metadata": {},
   "outputs": [],
   "source": [
    "def episode(env, agent):\n",
    "    \n",
    "    state = int2loc(env.reset())\n",
    "    action = agent.action(state)\n",
    "    \n",
    "    for step in range(MAX_STEPS):\n",
    "        \n",
    "        # take action & observe\n",
    "        state_, reward, done, _ = env.step(action)\n",
    "        state_ = int2loc(state_)\n",
    "        \n",
    "        # choose next action\n",
    "        action_ = agent.action(state_)\n",
    "        \n",
    "        # update q value\n",
    "        agent.learn(state, action, state_, action_, reward, done);\n",
    "        \n",
    "        # iter to next step\n",
    "        state = state_\n",
    "        action = action_\n",
    "        \n",
    "        if done:\n",
    "            return step"
   ]
  },
  {
   "cell_type": "code",
   "execution_count": 9,
   "id": "bb8343d9-6e78-40f3-adab-57a1540453a9",
   "metadata": {
    "scrolled": true,
    "tags": []
   },
   "outputs": [],
   "source": [
    "EPISODES = 10000\n",
    "MAX_STEPS = 100  # max steps before terminating an episode\n",
    "\n",
    "agent = SARSA(e=1, lr=0.2)\n",
    "steps = []\n",
    "\n",
    "for i in range(EPISODES):\n",
    "    \n",
    "    episode(env, agent);\n",
    "    \n",
    "    if agent.e >= 0.2:\n",
    "        agent.e *= 0.996\n",
    "        \n",
    "    if i % 20 == 0:\n",
    "        agent.test_mode = True\n",
    "        steps.append(episode(env, agent))\n",
    "        agent.test_mode = False"
   ]
  },
  {
   "cell_type": "code",
   "execution_count": 10,
   "id": "6f5fa34f-f2b6-40a2-ad7a-9debada23924",
   "metadata": {},
   "outputs": [
    {
     "data": {
      "image/png": "[encoded data removed]",
      "text/plain": [
       "<Figure size 432x288 with 1 Axes>"
      ]
     },
     "metadata": {
      "needs_background": "light"
     },
     "output_type": "display_data"
    }
   ],
   "source": [
    "# learning curve\n",
    "plt.scatter(range(len(steps)), steps);"
   ]
  },
  {
   "cell_type": "code",
   "execution_count": 11,
   "id": "ea70d6a6-4d6b-4ba9-9187-a7c3e2f0fa42",
   "metadata": {},
   "outputs": [
    {
     "data": {
      "text/plain": [
       "array([['↓', '←', '←', '←'],\n",
       "       ['↓', 'H', '↓', 'H'],\n",
       "       ['→', '→', '↓', 'H'],\n",
       "       ['H', '→', '→', 'G']], dtype='<U1')"
      ]
     },
     "execution_count": 11,
     "metadata": {},
     "output_type": "execute_result"
    }
   ],
   "source": [
    "# visualize policy\n",
    "arrows = np.array(['←','↓','→','↑'])\n",
    "np.array([arrows[np.argmax(agent.q, axis=2)[i,j]] \n",
    "          if (env.desc[i,j] == env.desc[0,0]) or (env.desc[i,j] == env.desc[0,1]) else env.desc[i,j]\n",
    "          for i in range(4) for j in range(4)\n",
    "          ]).reshape(4,4)"
   ]
  },
  {
   "cell_type": "markdown",
   "id": "494a1f7f-707e-437d-a0cd-e3a6fe9fac76",
   "metadata": {},
   "source": [
    "# Q-Learning"
   ]
  },
  {
   "cell_type": "code",
   "execution_count": 12,
   "id": "45dfe507-8f76-4161-9183-4c4c3104cf05",
   "metadata": {},
   "outputs": [],
   "source": [
    "class QL(SARSA):\n",
    "    \n",
    "    def __init__(self, *args, **kwargs):\n",
    "        super().__init__(*args, **kwargs)\n",
    "    \n",
    "    def learn(self, state, action, state_, action_, reward, done):\n",
    "        \n",
    "        # (6.8 on p131)\n",
    "        q_next = np.max(self.q[state_]) if not done else 0.0         # <- difference\n",
    "        td_error = reward + self.y*q_next - self.q[(*state, action)]\n",
    "        self.q[(*state, action)] += self.lr * td_error"
   ]
  },
  {
   "cell_type": "code",
   "execution_count": 14,
   "id": "1f928082-1a62-44ef-9a19-da9c161c42c7",
   "metadata": {},
   "outputs": [],
   "source": [
    "EPISODES = 10000\n",
    "MAX_STEPS = 100\n",
    "\n",
    "agent = QL(e=1, lr=0.6)\n",
    "steps = []\n",
    "\n",
    "for i in range(EPISODES):\n",
    "    \n",
    "    episode(env, agent);\n",
    "    \n",
    "    if agent.e >= 0.2:\n",
    "        agent.e *= 0.996\n",
    "        \n",
    "    if i % 20 == 0:\n",
    "        agent.test_mode = True\n",
    "        steps.append(episode(env, agent))\n",
    "        agent.test_mode = False"
   ]
  },
  {
   "cell_type": "code",
   "execution_count": 15,
   "id": "b934a7b8-b9c6-424e-a8ad-fca0fae22b1d",
   "metadata": {},
   "outputs": [
    {
     "data": {
      "image/png": "[encoded data removed]",
      "text/plain": [
       "<Figure size 432x288 with 1 Axes>"
      ]
     },
     "metadata": {
      "needs_background": "light"
     },
     "output_type": "display_data"
    }
   ],
   "source": [
    "plt.scatter(range(len(steps)), steps);"
   ]
  },
  {
   "cell_type": "code",
   "execution_count": 16,
   "id": "7f577c8a-3d28-45a6-b746-419847878c88",
   "metadata": {},
   "outputs": [
    {
     "data": {
      "text/plain": [
       "array([['↓', '←', '←', '←'],\n",
       "       ['↓', 'H', '↑', 'H'],\n",
       "       ['→', '↓', '↓', 'H'],\n",
       "       ['H', '→', '→', 'G']], dtype='<U1')"
      ]
     },
     "execution_count": 16,
     "metadata": {},
     "output_type": "execute_result"
    }
   ],
   "source": [
    "np.array([arrows[np.argmax(agent.q, axis=2)[i,j]] \n",
    "          if (env.desc[i,j] == env.desc[0,0]) or (env.desc[i,j] == env.desc[0,1]) else env.desc[i,j]\n",
    "          for i in range(4) for j in range(4)\n",
    "          ]).reshape(4,4)"
   ]
  },
  {
   "cell_type": "markdown",
   "id": "2d2e9bd7-8fa8-4d86-a176-a536ab8a317f",
   "metadata": {},
   "source": [
    "## Cliff Walking (Example 6.6)"
   ]
  },
  {
   "cell_type": "code",
   "execution_count": 17,
   "id": "da85c87b-b3eb-4ca8-88c5-c89a43ddaf3f",
   "metadata": {},
   "outputs": [],
   "source": [
    "# cliff environment\n",
    "class Cliff():\n",
    "    \n",
    "    def __init__(self):\n",
    "        self.map = np.ones((4,6)) * (-1)\n",
    "        self.map[0,5] = 0  # goal\n",
    "        self.map[0,1:5] = -100  # cliff\n",
    "        self.actions = [(0,-1),(1,0),(0,1),(-1,0)]\n",
    "        self.reset()\n",
    "    \n",
    "    def reset(self):\n",
    "        self.loc = (0,0)\n",
    "        return self.loc\n",
    "    \n",
    "    def step(self, action):\n",
    "        x, y = self.actions[action]\n",
    "        x = np.clip(self.loc[0] + x, 0, 3)\n",
    "        y = np.clip(self.loc[1] + y, 0, 5)\n",
    "        self.loc = (x, y)\n",
    "        reward = self.map[self.loc]\n",
    "        return self.loc, reward, reward!=(-1), None  # to be consistent withh gym's return"
   ]
  },
  {
   "cell_type": "code",
   "execution_count": 18,
   "id": "35a56ca7-2762-4cc8-a45b-6c957da3a0aa",
   "metadata": {},
   "outputs": [
    {
     "name": "stdout",
     "output_type": "stream",
     "text": [
      "[[  -1. -100. -100. -100. -100.    0.]\n",
      " [  -1.   -1.   -1.   -1.   -1.   -1.]\n",
      " [  -1.   -1.   -1.   -1.   -1.   -1.]\n",
      " [  -1.   -1.   -1.   -1.   -1.   -1.]]\n"
     ]
    }
   ],
   "source": [
    "# payoff map\n",
    "env = Cliff()\n",
    "print(env.map)"
   ]
  },
  {
   "cell_type": "code",
   "execution_count": 19,
   "id": "51e0aa1f-60a4-4a5f-99a2-df8c1416a7e8",
   "metadata": {},
   "outputs": [],
   "source": [
    "# episode function without int2loc\n",
    "def episode2(env, agent):\n",
    "    \n",
    "    state = env.reset()\n",
    "    action = agent.action(state)\n",
    "    \n",
    "    for step in range(MAX_STEPS):\n",
    "        \n",
    "        # take action & observe\n",
    "        state_, reward, done, _ = env.step(action)\n",
    "        \n",
    "        # choose next action\n",
    "        action_ = agent.action(state_)\n",
    "        \n",
    "        # update q value\n",
    "        agent.learn(state, action, state_, action_, reward, done);\n",
    "        \n",
    "        # iter to next step\n",
    "        state = state_\n",
    "        action = action_\n",
    "        \n",
    "        if done:\n",
    "            return step"
   ]
  },
  {
   "cell_type": "code",
   "execution_count": 20,
   "id": "82a55ced-20ab-4688-a81d-5d18cf5e2887",
   "metadata": {},
   "outputs": [],
   "source": [
    "ql    = QL(e=0.1, shape=(4,6,4))\n",
    "sarsa = SARSA(e=0.1, shape=(4,6,4))\n",
    "\n",
    "for _ in range(10000):\n",
    "    episode2(env, ql)\n",
    "    episode2(env, sarsa)"
   ]
  },
  {
   "cell_type": "code",
   "execution_count": 21,
   "id": "457a8556-8854-40e2-9db9-975b692d8361",
   "metadata": {},
   "outputs": [
    {
     "data": {
      "text/plain": [
       "array([['↓', '-100.0', '-100.0', '-100.0', '-100.0', '0.0'],\n",
       "       ['→', '→', '→', '→', '→', '↑'],\n",
       "       ['↑', '↑', '→', '↑', '→', '↑'],\n",
       "       ['↓', '↑', '→', '→', '→', '↑']], dtype='<U32')"
      ]
     },
     "execution_count": 21,
     "metadata": {},
     "output_type": "execute_result"
    }
   ],
   "source": [
    "# q learning policy\n",
    "# (optimal, shortest)\n",
    "np.array([arrows[np.argmax(ql.q, axis=2)[i,j]]\n",
    "          if env.map[i,j]==-1 else env.map[i,j]\n",
    "          for i in range(4) for j in range(6)\n",
    "          ]).reshape(4,6)"
   ]
  },
  {
   "cell_type": "code",
   "execution_count": 22,
   "id": "d38a6be2-8b5d-485e-bb02-937d8947baa5",
   "metadata": {},
   "outputs": [
    {
     "data": {
      "text/plain": [
       "array([['↓', '-100.0', '-100.0', '-100.0', '-100.0', '0.0'],\n",
       "       ['↓', '↓', '↓', '↓', '→', '↑'],\n",
       "       ['→', '↓', '→', '↓', '→', '↑'],\n",
       "       ['→', '→', '→', '→', '→', '↑']], dtype='<U32')"
      ]
     },
     "execution_count": 22,
     "metadata": {},
     "output_type": "execute_result"
    }
   ],
   "source": [
    "# sarsa policy\n",
    "# (safest under epsilon-greedy)\n",
    "np.array([arrows[np.argmax(sarsa.q, axis=2)[i,j]]\n",
    "          if env.map[i,j]==-1 else env.map[i,j]\n",
    "          for i in range(4) for j in range(6)\n",
    "          ]).reshape(4,6)"
   ]
  },
  {
   "cell_type": "markdown",
   "id": "c0a1eb14-32c3-423a-8aab-a432b4b20bcb",
   "metadata": {},
   "source": [
    "# Expected Sarsa"
   ]
  },
  {
   "cell_type": "code",
   "execution_count": 23,
   "id": "25766199-7ff8-4f8d-a160-2cfbcf01a7ed",
   "metadata": {},
   "outputs": [],
   "source": [
    "class QL(SARSA):\n",
    "    \n",
    "    def __init__(self, *args, **kwargs):\n",
    "        super().__init__(*args, **kwargs)\n",
    "    \n",
    "    def learn(self, state, action, state_, action_, reward, done):\n",
    "        \n",
    "        # (6.9 on p133)\n",
    "        pi_next = np.ones(len(self.choice)) * self.e / len(self.choice)\n",
    "        pi_next[np.argmax(self.q[state_])] = 1 - self.e * (len(self.choice)-1) / len(self.choice)\n",
    "        q_next = np.sum(pi_next * self.q[state_]) if not done else 0.0\n",
    "        \n",
    "        td_error = reward + self.y*q_next - self.q[(*state, action)]\n",
    "        \n",
    "        self.q[(*state, action)] += self.lr * td_error\n",
    "        \n",
    "    def generate_policy(self):\n",
    "        self.policy = np.argmax(self.q, axis=2)\n",
    "        np.ones(self.shape) * self.e / len(self.choice)\n",
    "\n",
    "# (NOT TESTED YET)"
   ]
  },
  {
   "cell_type": "markdown",
   "id": "b1a48829-f6b2-4888-a57f-4b3fbb850c59",
   "metadata": {},
   "source": [
    "# Double Q-Learning"
   ]
  },
  {
   "cell_type": "code",
   "execution_count": 24,
   "id": "80fa7c5b-bd16-4617-9064-6987e67b0f5f",
   "metadata": {},
   "outputs": [],
   "source": [
    "class DQL():\n",
    "        \n",
    "    def __init__(self, choice=[0,1,2,3], shape=(SIZE, SIZE, 4), e=0.8, y=0.9, lr=1e-1,):\n",
    "        \n",
    "        self.e  = e\n",
    "        self.y  = y\n",
    "        self.lr = lr\n",
    "        self.choice = choice\n",
    "        self.q1 = np.random.randn(*shape)\n",
    "        self.q2 = np.random.randn(*shape)\n",
    "        \n",
    "        self.test_mode = False\n",
    "    \n",
    "    def action(self, state):\n",
    "        if not self.test_mode and np.random.rand() <= self.e:\n",
    "            action = np.random.choice((self.choice))\n",
    "        else:\n",
    "            action = np.argmax(self.q1[state] + self.q2[state])\n",
    "        return action\n",
    "    \n",
    "    def learn(self, state, action, state_, action_, reward, done):\n",
    "        \n",
    "        # (p136)\n",
    "        if np.random.rand() <= 0.5:\n",
    "            q_next = self.q2[(*state_, np.argmax(self.q1[state_]))] if not done else 0.0\n",
    "            td_error = reward + self.y*q_next - self.q1[(*state, action)]\n",
    "            self.q1[(*state, action)] += self.lr * td_error\n",
    "        \n",
    "        else:\n",
    "            q_next = self.q1[(*state_, np.argmax(self.q2[state_]))] if not done else 0.0\n",
    "            td_error = reward + self.y*q_next - self.q2[(*state, action)]\n",
    "            self.q2[(*state, action)] += self.lr * td_error\n",
    "            \n",
    "    def generate_policy(self):\n",
    "        self.policy = np.argmax(self.q1 + self.q2, axis=2)\n",
    "        return self.policy"
   ]
  },
  {
   "cell_type": "code",
   "execution_count": 25,
   "id": "3a123ebe-808d-4c7f-8955-6b7694cb0d37",
   "metadata": {},
   "outputs": [],
   "source": [
    "EPISODES = 10000\n",
    "MAX_STEPS = 100\n",
    "\n",
    "env = gym.make('FrozenLake-v1', is_slippery=False)\n",
    "agent = DQL(e=1, lr=1)\n",
    "steps = []\n",
    "\n",
    "for i in range(EPISODES):\n",
    "    \n",
    "    episode(env, agent);\n",
    "    \n",
    "    if agent.e >= 0.2:\n",
    "        agent.e *= 0.996\n",
    "        \n",
    "    if i % 20 == 0:\n",
    "        agent.test_mode = True\n",
    "        steps.append(episode(env, agent))\n",
    "        agent.test_mode = False"
   ]
  },
  {
   "cell_type": "code",
   "execution_count": 27,
   "id": "d3cb11b5-f0d0-4c8a-8f53-d27beb8089c4",
   "metadata": {},
   "outputs": [
    {
     "data": {
      "image/png": "[encoded data removed]",
      "text/plain": [
       "<Figure size 432x288 with 1 Axes>"
      ]
     },
     "metadata": {
      "needs_background": "light"
     },
     "output_type": "display_data"
    }
   ],
   "source": [
    "plt.scatter(range(len(steps)), steps);"
   ]
  },
  {
   "cell_type": "code",
   "execution_count": 28,
   "id": "98e5277a-a340-4e02-a902-44d1fcc88140",
   "metadata": {},
   "outputs": [
    {
     "data": {
      "text/plain": [
       "array([['↓', '←', '←', '↓'],\n",
       "       ['↓', 'H', '↓', 'H'],\n",
       "       ['→', '↓', '↓', 'H'],\n",
       "       ['H', '→', '→', 'G']], dtype='<U1')"
      ]
     },
     "execution_count": 28,
     "metadata": {},
     "output_type": "execute_result"
    }
   ],
   "source": [
    "np.array([arrows[agent.generate_policy()[i,j]] \n",
    "          if (env.desc[i,j] == env.desc[0,0]) or (env.desc[i,j] == env.desc[0,1]) else env.desc[i,j]\n",
    "          for i in range(4) for j in range(4)\n",
    "          ]).reshape(4,4)"
   ]
  },
  {
   "cell_type": "code",
   "execution_count": 24,
   "id": "d8b81615-1c53-44b4-a504-f12cae86ff3f",
   "metadata": {},
   "outputs": [],
   "source": [
    "# TODO: implement maximization bias example (p134)"
   ]
  }
 ],
 "metadata": {
  "kernelspec": {
   "display_name": "Python 3 (ipykernel)",
   "language": "python",
   "name": "python3"
  },
  "language_info": {
   "codemirror_mode": {
    "name": "ipython",
    "version": 3
   },
   "file_extension": ".py",
   "mimetype": "text/x-python",
   "name": "python",
   "nbconvert_exporter": "python",
   "pygments_lexer": "ipython3",
   "version": "3.8.10"
  }
 },
 "nbformat": 4,
 "nbformat_minor": 5
}
