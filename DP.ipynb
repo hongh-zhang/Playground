{
 "cells": [
  {
   "cell_type": "code",
   "execution_count": 1,
   "id": "538891bb-66b0-4564-b71b-0b3e64787b27",
   "metadata": {},
   "outputs": [],
   "source": [
    "import numpy as np\n",
    "\n",
    "np.set_printoptions(precision=3)\n",
    "\n",
    "SIZE = 9"
   ]
  },
  {
   "cell_type": "code",
   "execution_count": 2,
   "id": "b8517dd9-396c-4425-87df-eb56e99d2329",
   "metadata": {},
   "outputs": [],
   "source": [
    "class Env():\n",
    "    \n",
    "    def __init__(self, size=SIZE, prob=1):\n",
    "        \n",
    "        # size : Int, size of array\n",
    "        # prob : Float, probability of stochastic movement\n",
    "        \n",
    "        self.size = size\n",
    "        self.prob = prob\n",
    "        self.payoff = np.ones(size) * - 1\n",
    "        self.payoff[size-1] = 0 # value of terminal state\n",
    "    \n",
    "    def feedback(self, curr, action):\n",
    "        # :: current_state, action -> reward, next_state\n",
    "        action = -1 if action == 0 else 1\n",
    "        next_state = int(max(0, curr + action))\n",
    "        reward = self.payoff[next_state]\n",
    "            \n",
    "        return reward, next_state\n",
    "            \n",
    "    def get_payoff(self):\n",
    "        return self.payoff\n",
    "    \n",
    "    def get_prob(self):\n",
    "        return self.prob"
   ]
  },
  {
   "cell_type": "code",
   "execution_count": 3,
   "id": "1598504f-c553-4cfb-945e-34fac13e99bc",
   "metadata": {},
   "outputs": [
    {
     "data": {
      "text/plain": [
       "array([-1., -1., -1., -1., -1., -1., -1., -1.,  0.])"
      ]
     },
     "execution_count": 3,
     "metadata": {},
     "output_type": "execute_result"
    }
   ],
   "source": [
    "env = Env()\n",
    "env.get_payoff()\n",
    "\n",
    "# the agent will be traversing thru this 1d array\n",
    "# starting on 2nd element,\n",
    "# the goal is to reach the right end as fast as possible"
   ]
  },
  {
   "cell_type": "code",
   "execution_count": 6,
   "id": "a8d127e4-2b6f-48d9-a908-ef0cd71d710a",
   "metadata": {},
   "outputs": [],
   "source": [
    "class Iterative_DP():\n",
    "    \n",
    "    def __init__(self, env, gamma=0.99):\n",
    "        \n",
    "        self.size = env.size-1\n",
    "        self.gamma = gamma\n",
    "        \n",
    "        self.values = np.zeros(self.size+1)\n",
    "        self.policy = np.zeros(self.size+1)\n",
    "        self.update_policy(env)\n",
    "        \n",
    "    def sweep(self, env):\n",
    "        \n",
    "        for _ in range(1):\n",
    "            for s in range(self.size):\n",
    "                r, s_ = env.feedback(s, self.policy[s])\n",
    "                self.values[s] = r + self.gamma * self.values[s_]\n",
    "            \n",
    "        self.update_policy(env)\n",
    "            \n",
    "    def update_policy(self, env):\n",
    "        \n",
    "        for s in range(self.size):\n",
    "            # state after left/right movement\n",
    "            r_l, s_l = env.feedback(s, 0)\n",
    "            r_r, s_r = env.feedback(s, 1)\n",
    "            \n",
    "            v_l = r_l + self.gamma * self.values[s_l]\n",
    "            v_r = r_r + self.gamma * self.values[s_r]\n",
    "            \n",
    "            pi = 0 if (v_l > v_r) else 1\n",
    "            \n",
    "            self.policy[s] = pi"
   ]
  },
  {
   "cell_type": "code",
   "execution_count": 9,
   "id": "9e4d2693-b3e0-4940-a9ac-5771cc3279fc",
   "metadata": {},
   "outputs": [
    {
     "name": "stdout",
     "output_type": "stream",
     "text": [
      "[-1. -1. -1. -1. -1. -1. -1.  0.]\n",
      "[-1.99 -1.99 -1.99 -1.99 -1.99 -1.99 -1.    0.  ]\n",
      "[-2.97 -2.97 -2.97 -2.97 -2.97 -1.99 -1.    0.  ]\n",
      "[-3.94 -3.94 -3.94 -3.94 -2.97 -1.99 -1.    0.  ]\n",
      "[-4.901 -4.901 -4.901 -3.94  -2.97  -1.99  -1.     0.   ]\n",
      "[-5.852 -5.852 -4.901 -3.94  -2.97  -1.99  -1.     0.   ]\n",
      "[-6.793 -5.852 -4.901 -3.94  -2.97  -1.99  -1.     0.   ]\n",
      "[-6.793 -5.852 -4.901 -3.94  -2.97  -1.99  -1.     0.   ]\n",
      "[-6.793 -5.852 -4.901 -3.94  -2.97  -1.99  -1.     0.   ]\n",
      "[-6.793 -5.852 -4.901 -3.94  -2.97  -1.99  -1.     0.   ]\n",
      "[1. 1. 1. 1. 1. 1. 1. 1.]\n"
     ]
    }
   ],
   "source": [
    "agent1 = Iterative_DP(env)\n",
    "\n",
    "for _ in range(10):\n",
    "    agent1.sweep(env)\n",
    "    print(agent1.values[:-1])\n",
    "\n",
    "print(agent1.policy[:-1])"
   ]
  },
  {
   "cell_type": "code",
   "execution_count": null,
   "id": "4badd3fe-1368-4848-96ae-d343615d4d72",
   "metadata": {},
   "outputs": [],
   "source": []
  }
 ],
 "metadata": {
  "kernelspec": {
   "display_name": "Python 3 (ipykernel)",
   "language": "python",
   "name": "python3"
  },
  "language_info": {
   "codemirror_mode": {
    "name": "ipython",
    "version": 3
   },
   "file_extension": ".py",
   "mimetype": "text/x-python",
   "name": "python",
   "nbconvert_exporter": "python",
   "pygments_lexer": "ipython3",
   "version": "3.8.10"
  }
 },
 "nbformat": 4,
 "nbformat_minor": 5
}
